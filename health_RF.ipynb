{
 "cells": [
  {
   "cell_type": "code",
   "execution_count": 2,
   "id": "c643eb5e-c4f2-4c84-a4d4-be328bbb259c",
   "metadata": {},
   "outputs": [],
   "source": [
    "import numpy as np\n",
    "import pandas as pd\n",
    "import seaborn as sns\n",
    "import matplotlib.pyplot as plt"
   ]
  },
  {
   "cell_type": "code",
   "execution_count": 3,
   "id": "b7a6bd9b-e4b3-4ec8-8a6e-14c806abbc98",
   "metadata": {},
   "outputs": [],
   "source": [
    "pd.set_option('display.max_columns', None)\n",
    "pd.set_option('display.max_rows', None)"
   ]
  },
  {
   "cell_type": "code",
   "execution_count": 4,
   "id": "83e0bf5e-7387-4c3e-a05c-98888a6694f5",
   "metadata": {},
   "outputs": [],
   "source": [
    "health = pd.read_excel(\"C:/Users/m218101/Desktop/WBS_Coding_school/Course/Final_project/BRICS_World_Bank_Indicators/BRICS_Health_and_Poverty_Data.xlsx\")"
   ]
  },
  {
   "cell_type": "code",
   "execution_count": 5,
   "id": "0a3eb000-ffd8-4384-b6a5-222768bff40b",
   "metadata": {},
   "outputs": [],
   "source": [
    "top10depart_RF_1995_2018 = pd.read_csv(\"C:/Users/m218101/Desktop/WBS_Coding_school/Course/Final_project/intern_tourism_demographics/top10depart_RF_1995_2018.csv\") "
   ]
  },
  {
   "cell_type": "code",
   "execution_count": 6,
   "id": "f7aaec18-6c39-4330-8f32-b70d19a7e2f1",
   "metadata": {},
   "outputs": [],
   "source": [
    "top10depart_RF_1995_2018 = top10depart_RF_1995_2018.set_index('Unnamed: 0')"
   ]
  },
  {
   "cell_type": "code",
   "execution_count": 7,
   "id": "a07119ac-d037-4d6d-ab60-917c890b9ec5",
   "metadata": {},
   "outputs": [],
   "source": [
    "top10depart_RF_1995_2018.index.names = [None]"
   ]
  },
  {
   "cell_type": "code",
   "execution_count": 8,
   "id": "ea3bc838-7ad8-4821-b6a4-d98b3efadd4c",
   "metadata": {},
   "outputs": [],
   "source": [
    "h = health.copy()"
   ]
  },
  {
   "cell_type": "code",
   "execution_count": 9,
   "id": "ca7409cf-d3c9-48a6-8b07-4bf1720623ff",
   "metadata": {},
   "outputs": [],
   "source": [
    "h = h.rename(columns={\"Country Name\": \"Country_Name\",\"Country Code\": \"Country_Code\", \"Series Name\": \"Series_Name\", \"Series Code\": \"Series_Code\"})"
   ]
  },
  {
   "cell_type": "code",
   "execution_count": 10,
   "id": "8148df6f-a5bb-464e-b9b5-94521c52b2e6",
   "metadata": {},
   "outputs": [],
   "source": [
    "h.columns = h.columns.str.replace(' \\[YR\\d+\\]', '', regex=True)"
   ]
  },
  {
   "cell_type": "code",
   "execution_count": 11,
   "id": "2a3e7a91-fe3a-4b13-84b5-723012dd895b",
   "metadata": {},
   "outputs": [],
   "source": [
    "h_RF = h.loc[h[\"Country_Name\"] == \"Russian Federation\", :]"
   ]
  },
  {
   "cell_type": "code",
   "execution_count": 12,
   "id": "19161df1-388b-43fa-8620-c933ae7c3d34",
   "metadata": {},
   "outputs": [],
   "source": [
    "h_RF_1995_2018 = h_RF.drop(h_RF.loc[:,'1970':'1994'].columns, axis=1)"
   ]
  },
  {
   "cell_type": "code",
   "execution_count": 13,
   "id": "f173b929-2ad6-4377-b6ef-925052d4e24b",
   "metadata": {},
   "outputs": [],
   "source": [
    "h_RF_1995_2018=h_RF_1995_2018.drop(['Country_Code','Series_Code'], axis=1) "
   ]
  },
  {
   "cell_type": "code",
   "execution_count": 14,
   "id": "8f6f275a-0bf6-461f-903e-833b10a60bf1",
   "metadata": {},
   "outputs": [],
   "source": [
    "result = pd.concat([top10depart_RF_1995_2018, h_RF_1995_2018], axis=0)"
   ]
  },
  {
   "cell_type": "code",
   "execution_count": 15,
   "id": "5d33271d-fcd3-4901-b8a2-cb8899cc929c",
   "metadata": {},
   "outputs": [],
   "source": [
    "result_melt = result.melt(id_vars=['Country_Name','Series_Name'], value_vars=['1995','1996','1997','1998','1999','2000','2001'\n",
    "                                                                              ,'2002','2003','2004','2005','2006','2007','2008'\n",
    "                                                                              ,'2009','2010','2011','2012','2013','2014','2015'\n",
    "                                                                              ,'2016','2017','2018','2019','2020'], ignore_index=False) #or transpose"
   ]
  },
  {
   "cell_type": "code",
   "execution_count": 16,
   "id": "8221156b-a120-49d0-abce-9d47cbeb5a19",
   "metadata": {},
   "outputs": [],
   "source": [
    "result_transpose = result.T"
   ]
  },
  {
   "cell_type": "code",
   "execution_count": 17,
   "id": "367b1f60-1a16-48f1-985a-29a279fc050f",
   "metadata": {},
   "outputs": [],
   "source": [
    "df=result_transpose.copy()"
   ]
  },
  {
   "cell_type": "code",
   "execution_count": 18,
   "id": "b6623b65-8cfe-4fb1-88f7-66998a10f591",
   "metadata": {},
   "outputs": [],
   "source": [
    "df.columns = df.columns.astype(str)"
   ]
  },
  {
   "cell_type": "code",
   "execution_count": 19,
   "id": "81711c18-d65e-46ed-bffd-3b4e48a7df1d",
   "metadata": {},
   "outputs": [],
   "source": [
    "df = df.rename(columns={'4': 'dep4'})"
   ]
  },
  {
   "cell_type": "code",
   "execution_count": 20,
   "id": "c5ec7e73-b038-4b2c-bdfb-80bb8b7cbb98",
   "metadata": {},
   "outputs": [],
   "source": [
    "df = df.drop(['Country_Name','Series_Name','2020'])"
   ]
  },
  {
   "cell_type": "code",
   "execution_count": 21,
   "id": "b0ff9210-acba-4924-94de-c8f8376875c6",
   "metadata": {},
   "outputs": [],
   "source": [
    "df = df.fillna(method='bfill')\n",
    "df = df.fillna(method='ffill')"
   ]
  },
  {
   "cell_type": "code",
   "execution_count": 22,
   "id": "86c0a306-bc84-4f39-9d7a-26f57680fd58",
   "metadata": {},
   "outputs": [
    {
     "data": {
      "text/plain": [
       "1079   -0.936391\n",
       "943    -0.925616\n",
       "1047   -0.925376\n",
       "879    -0.924744\n",
       "1043   -0.924181\n",
       "990    -0.920903\n",
       "989    -0.919683\n",
       "912    -0.918196\n",
       "1035   -0.916694\n",
       "1045   -0.914516\n",
       "1048   -0.912064\n",
       "1042   -0.905320\n",
       "909    -0.904848\n",
       "1046   -0.903753\n",
       "948    -0.895078\n",
       "1008   -0.893791\n",
       "913    -0.891202\n",
       "929    -0.890694\n",
       "1080   -0.890195\n",
       "933    -0.890145\n",
       "931    -0.889821\n",
       "927    -0.889519\n",
       "932    -0.887473\n",
       "928    -0.887443\n",
       "1072   -0.886536\n",
       "1039   -0.883857\n",
       "1007   -0.883552\n",
       "930    -0.874733\n",
       "1086   -0.873116\n",
       "1088   -0.872277\n",
       "944    -0.870854\n",
       "1070   -0.870774\n",
       "881    -0.865231\n",
       "1087   -0.862859\n",
       "1071   -0.859286\n",
       "1041   -0.857890\n",
       "916    -0.853260\n",
       "921    -0.849451\n",
       "923    -0.848116\n",
       "1073   -0.841769\n",
       "915    -0.841486\n",
       "1034   -0.837181\n",
       "922    -0.835908\n",
       "1063   -0.827185\n",
       "1076   -0.826601\n",
       "917    -0.826371\n",
       "955    -0.818715\n",
       "947    -0.818402\n",
       "1038   -0.816428\n",
       "946    -0.816149\n",
       "845    -0.797364\n",
       "949    -0.792861\n",
       "1037   -0.782473\n",
       "1036   -0.782161\n",
       "911    -0.781095\n",
       "991    -0.769342\n",
       "1040   -0.765211\n",
       "886    -0.764106\n",
       "904    -0.745517\n",
       "905    -0.745517\n",
       "992    -0.744297\n",
       "945    -0.738721\n",
       "1084   -0.733547\n",
       "1083   -0.727648\n",
       "926    -0.716865\n",
       "895    -0.696773\n",
       "914    -0.691021\n",
       "1075   -0.690728\n",
       "894    -0.690568\n",
       "831    -0.687560\n",
       "1094   -0.676696\n",
       "1095   -0.675367\n",
       "925    -0.670166\n",
       "1096   -0.668317\n",
       "1032   -0.668257\n",
       "1074   -0.666214\n",
       "880    -0.663176\n",
       "844    -0.626554\n",
       "982    -0.618748\n",
       "1081   -0.618206\n",
       "986    -0.615852\n",
       "956    -0.614182\n",
       "984    -0.613129\n",
       "983    -0.613025\n",
       "981    -0.592528\n",
       "985    -0.567196\n",
       "836    -0.564813\n",
       "875    -0.533755\n",
       "1005   -0.496934\n",
       "1006   -0.445952\n",
       "901    -0.421368\n",
       "987    -0.416864\n",
       "1089   -0.416005\n",
       "1090   -0.416005\n",
       "834    -0.404038\n",
       "872    -0.393821\n",
       "988    -0.381757\n",
       "1023   -0.366826\n",
       "903    -0.343137\n",
       "902    -0.343137\n",
       "1024   -0.339340\n",
       "1097   -0.288841\n",
       "1056   -0.265558\n",
       "1052   -0.263445\n",
       "1010   -0.252190\n",
       "1025   -0.245070\n",
       "996    -0.238061\n",
       "1009   -0.221255\n",
       "865    -0.207863\n",
       "999    -0.158541\n",
       "1000   -0.091044\n",
       "860    -0.050856\n",
       "885    -0.019560\n",
       "924     0.000000\n",
       "1085    0.000000\n",
       "838     0.000000\n",
       "1026    0.008907\n",
       "998     0.025551\n",
       "861     0.028478\n",
       "900     0.030903\n",
       "862     0.114956\n",
       "897     0.179828\n",
       "1098    0.207766\n",
       "978     0.218901\n",
       "1015    0.227260\n",
       "1016    0.231660\n",
       "896     0.243882\n",
       "994     0.264459\n",
       "1078    0.322555\n",
       "856     0.376058\n",
       "997     0.393717\n",
       "835     0.393995\n",
       "993     0.409010\n",
       "899     0.425272\n",
       "995     0.429531\n",
       "1018    0.436879\n",
       "871     0.458516\n",
       "1022    0.482057\n",
       "898     0.502183\n",
       "889     0.518656\n",
       "887     0.519721\n",
       "1020    0.524759\n",
       "1077    0.539707\n",
       "1019    0.542070\n",
       "870     0.567217\n",
       "1027    0.573448\n",
       "1017    0.593141\n",
       "1021    0.618904\n",
       "843     0.633360\n",
       "957     0.639641\n",
       "1003    0.651920\n",
       "1004    0.658482\n",
       "1031    0.711098\n",
       "1082    0.718790\n",
       "1011    0.723391\n",
       "1029    0.726006\n",
       "1012    0.734741\n",
       "907     0.745334\n",
       "1028    0.750014\n",
       "1001    0.764344\n",
       "908     0.765769\n",
       "1030    0.781919\n",
       "1092    0.788820\n",
       "846     0.794234\n",
       "906     0.796047\n",
       "888     0.800484\n",
       "1013    0.806413\n",
       "1002    0.806641\n",
       "1014    0.809261\n",
       "1091    0.811109\n",
       "979     0.821814\n",
       "969     0.822395\n",
       "1099    0.827357\n",
       "980     0.827519\n",
       "842     0.828912\n",
       "959     0.840808\n",
       "963     0.842621\n",
       "877     0.844806\n",
       "965     0.845958\n",
       "964     0.845958\n",
       "966     0.852608\n",
       "972     0.854196\n",
       "973     0.854774\n",
       "884     0.856836\n",
       "967     0.857115\n",
       "968     0.857115\n",
       "974     0.857378\n",
       "910     0.869000\n",
       "864     0.885231\n",
       "874     0.905125\n",
       "1033    0.916694\n",
       "958     0.966185\n",
       "876     0.971233\n",
       "873     0.973216\n",
       "863     0.974904\n",
       "dep4    1.000000\n",
       "832          NaN\n",
       "833          NaN\n",
       "837          NaN\n",
       "839          NaN\n",
       "840          NaN\n",
       "841          NaN\n",
       "847          NaN\n",
       "848          NaN\n",
       "849          NaN\n",
       "850          NaN\n",
       "851          NaN\n",
       "852          NaN\n",
       "853          NaN\n",
       "854          NaN\n",
       "855          NaN\n",
       "857          NaN\n",
       "858          NaN\n",
       "859          NaN\n",
       "866          NaN\n",
       "867          NaN\n",
       "868          NaN\n",
       "869          NaN\n",
       "878          NaN\n",
       "882          NaN\n",
       "883          NaN\n",
       "890          NaN\n",
       "891          NaN\n",
       "892          NaN\n",
       "893          NaN\n",
       "918          NaN\n",
       "919          NaN\n",
       "920          NaN\n",
       "934          NaN\n",
       "935          NaN\n",
       "936          NaN\n",
       "937          NaN\n",
       "938          NaN\n",
       "939          NaN\n",
       "940          NaN\n",
       "941          NaN\n",
       "942          NaN\n",
       "950          NaN\n",
       "951          NaN\n",
       "952          NaN\n",
       "953          NaN\n",
       "954          NaN\n",
       "960          NaN\n",
       "961          NaN\n",
       "962          NaN\n",
       "970          NaN\n",
       "971          NaN\n",
       "975          NaN\n",
       "976          NaN\n",
       "977          NaN\n",
       "1044         NaN\n",
       "1049         NaN\n",
       "1050         NaN\n",
       "1051         NaN\n",
       "1053         NaN\n",
       "1054         NaN\n",
       "1055         NaN\n",
       "1057         NaN\n",
       "1058         NaN\n",
       "1059         NaN\n",
       "1060         NaN\n",
       "1061         NaN\n",
       "1062         NaN\n",
       "1064         NaN\n",
       "1065         NaN\n",
       "1066         NaN\n",
       "1067         NaN\n",
       "1068         NaN\n",
       "1069         NaN\n",
       "1093         NaN\n",
       "1100         NaN\n",
       "1101         NaN\n",
       "1102         NaN\n",
       "1103         NaN\n",
       "1104         NaN\n",
       "1105         NaN\n",
       "1106         NaN\n",
       "1107         NaN\n",
       "dtype: float64"
      ]
     },
     "execution_count": 22,
     "metadata": {},
     "output_type": "execute_result"
    }
   ],
   "source": [
    "df.corrwith(df[\"dep4\"],axis=0).sort_values()"
   ]
  },
  {
   "cell_type": "code",
   "execution_count": 23,
   "id": "1bf92aac-af8f-4e57-b640-eec4b3910ff5",
   "metadata": {},
   "outputs": [],
   "source": [
    "df_ind = df.reset_index()"
   ]
  },
  {
   "cell_type": "code",
   "execution_count": 24,
   "id": "aa9fe639-2793-4dd1-8025-5dabb9662066",
   "metadata": {},
   "outputs": [
    {
     "data": {
      "text/plain": [
       "863     Current health expenditure per capita (current...\n",
       "873     Domestic general government health expenditure...\n",
       "876     Domestic private health expenditure per capita...\n",
       "958     Out-of-pocket expenditure per capita (current ...\n",
       "1033           Population, female (% of total population)\n",
       "874     Domestic general government health expenditure...\n",
       "Name: Series_Name, dtype: object"
      ]
     },
     "execution_count": 24,
     "metadata": {},
     "output_type": "execute_result"
    }
   ],
   "source": [
    "result_transpose[[863, 873, 876, 958, 1033, 874]].iloc[1] # > 0.9"
   ]
  },
  {
   "cell_type": "code",
   "execution_count": 32,
   "id": "25a70723-3a97-47a7-a381-4c88bea9414f",
   "metadata": {},
   "outputs": [],
   "source": [
    "melt_to_plot1 = result_melt[result_melt.index.isin([863, 873, 876, 874])]"
   ]
  },
  {
   "cell_type": "code",
   "execution_count": 33,
   "id": "4448e104-ad92-4ac6-a54e-9c4908a28594",
   "metadata": {},
   "outputs": [],
   "source": [
    "melt_ind1 = melt_to_plot1.reset_index()"
   ]
  },
  {
   "cell_type": "code",
   "execution_count": 34,
   "id": "d5e63eed-d10d-4ebe-aea6-7d534b89964d",
   "metadata": {},
   "outputs": [
    {
     "data": {
      "image/png": "[encoded data removed]",
      "text/plain": [
       "<Figure size 720x360 with 1 Axes>"
      ]
     },
     "metadata": {
      "needs_background": "light"
     },
     "output_type": "display_data"
    }
   ],
   "source": [
    "e_ch1 = melt_ind1.pivot(index = 'variable', columns='Series_Name', values='value')\n",
    "e_ch1.plot(kind='line',figsize=(10,5))\n",
    "ax = plt.subplot(111)\n",
    "ax.set_xlabel('Year')\n",
    "#ax.legend(loc='center left', bbox_to_anchor=(1, 0.5))\n",
    "#ax.legend(fontsize=13)\n",
    "plt.savefig('C:/Users/m218101/Desktop/WBS_Coding_school/Course/Final_project/intern_tourism_demographics/health_RF.png',dpi=200\n",
    "           ,bbox_inches='tight') "
   ]
  },
  {
   "cell_type": "code",
   "execution_count": 36,
   "id": "79962755-feae-4ef8-a513-adbd7963917a",
   "metadata": {},
   "outputs": [
    {
     "data": {
      "text/plain": [
       "1079    Risk of catastrophic expenditure for surgical ...\n",
       "943                     Number of deaths ages 10-14 years\n",
       "1047        Prevalence of anemia among pregnant women (%)\n",
       "879     External health expenditure (% of current heal...\n",
       "1043    Poverty headcount ratio at national poverty li...\n",
       "990     Population ages 10-14, male (% of male populat...\n",
       "989     Population ages 10-14, female (% of female pop...\n",
       "912     Maternal mortality ratio (modeled estimate, pe...\n",
       "1035             Population, male (% of total population)\n",
       "1045    Prevalence of anemia among children (% of chil...\n",
       "1048    Prevalence of anemia among women of reproducti...\n",
       "1042    Poverty headcount ratio at $5.50 a day (2011 P...\n",
       "909                   Lifetime risk of maternal death (%)\n",
       "1046    Prevalence of anemia among non-pregnant women ...\n",
       "948                             Number of maternal deaths\n",
       "1008    Population ages 40-44, male (% of male populat...\n",
       "913     Maternal mortality ratio (national estimate, p...\n",
       "929     Mortality rate, infant, male (per 1,000 live b...\n",
       "Name: Series_Name, dtype: object"
      ]
     },
     "execution_count": 36,
     "metadata": {},
     "output_type": "execute_result"
    }
   ],
   "source": [
    "result_transpose[[1079,943,1047,879,1043,990,989,912,1035,1045,1048,1042,909,1046,948,1008,913,929]].iloc[1]"
   ]
  }
 ],
 "metadata": {
  "kernelspec": {
   "display_name": "Python 3 (ipykernel)",
   "language": "python",
   "name": "python3"
  },
  "language_info": {
   "codemirror_mode": {
    "name": "ipython",
    "version": 3
   },
   "file_extension": ".py",
   "mimetype": "text/x-python",
   "name": "python",
   "nbconvert_exporter": "python",
   "pygments_lexer": "ipython3",
   "version": "3.9.12"
  }
 },
 "nbformat": 4,
 "nbformat_minor": 5
}
