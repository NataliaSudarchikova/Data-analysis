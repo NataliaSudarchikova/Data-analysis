{
 "cells": [
  {
   "cell_type": "code",
   "execution_count": 1,
   "id": "2128084f-8cf0-4758-8788-09da797ce254",
   "metadata": {},
   "outputs": [],
   "source": [
    "import numpy as np\n",
    "import pandas as pd\n",
    "import seaborn as sns\n",
    "import matplotlib.pyplot as plt"
   ]
  },
  {
   "cell_type": "code",
   "execution_count": 2,
   "id": "b9e9c21c-c633-4d24-9d94-de5ecd2eb79f",
   "metadata": {},
   "outputs": [],
   "source": [
    "pd.set_option('display.max_columns', None)\n",
    "pd.set_option('display.max_rows', None)"
   ]
  },
  {
   "cell_type": "code",
   "execution_count": 11,
   "id": "063b0592-be1b-4e95-acf9-afa4e239d29c",
   "metadata": {},
   "outputs": [],
   "source": [
    "happy15 = pd.read_csv(\"C:/Users/m218101/Desktop/WBS_Coding_school/Course/Final_project/happiness/2015.csv\")\n",
    "happy16 = pd.read_csv(\"C:/Users/m218101/Desktop/WBS_Coding_school/Course/Final_project/happiness/2016.csv\")\n",
    "happy17 = pd.read_csv(\"C:/Users/m218101/Desktop/WBS_Coding_school/Course/Final_project/happiness/2017.csv\")\n",
    "happy18 = pd.read_csv(\"C:/Users/m218101/Desktop/WBS_Coding_school/Course/Final_project/happiness/2018.csv\")\n",
    "happy19 = pd.read_csv(\"C:/Users/m218101/Desktop/WBS_Coding_school/Course/Final_project/happiness/2019.csv\")"
   ]
  },
  {
   "cell_type": "code",
   "execution_count": 12,
   "id": "51789c3c-a99b-4b23-9f36-454cb097bde8",
   "metadata": {
    "tags": []
   },
   "outputs": [],
   "source": [
    "china15 = happy15.loc[happy15[\"Country\"] == \"China\", :]\n",
    "china16 = happy16.loc[happy16[\"Country\"] == \"China\", :]\n",
    "china17 = happy17.loc[happy17[\"Country\"] == \"China\", :]\n",
    "china18 = happy18.loc[happy18[\"Country or region\"] == \"China\", :]\n",
    "china19 = happy19.loc[happy19[\"Country or region\"] == \"China\", :]"
   ]
  },
  {
   "cell_type": "code",
   "execution_count": 39,
   "id": "240c5d37-de16-49ab-a4df-99a0a084db48",
   "metadata": {},
   "outputs": [],
   "source": [
    "#h15_china = happy15.loc[happy15[\"Country\"].str.contains(\"China\")]"
   ]
  },
  {
   "cell_type": "code",
   "execution_count": 14,
   "id": "e8f1d81d-0230-4726-ad01-d99239e647a2",
   "metadata": {},
   "outputs": [
    {
     "data": {
      "text/html": [
       "<div>\n",
       "<style scoped>\n",
       "    .dataframe tbody tr th:only-of-type {\n",
       "        vertical-align: middle;\n",
       "    }\n",
       "\n",
       "    .dataframe tbody tr th {\n",
       "        vertical-align: top;\n",
       "    }\n",
       "\n",
       "    .dataframe thead th {\n",
       "        text-align: right;\n",
       "    }\n",
       "</style>\n",
       "<table border=\"1\" class=\"dataframe\">\n",
       "  <thead>\n",
       "    <tr style=\"text-align: right;\">\n",
       "      <th></th>\n",
       "      <th>Country</th>\n",
       "      <th>Region</th>\n",
       "      <th>Happiness Rank</th>\n",
       "      <th>Happiness Score</th>\n",
       "      <th>Standard Error</th>\n",
       "      <th>Economy (GDP per Capita)</th>\n",
       "      <th>Family</th>\n",
       "      <th>Health (Life Expectancy)</th>\n",
       "      <th>Freedom</th>\n",
       "      <th>Trust (Government Corruption)</th>\n",
       "      <th>Generosity</th>\n",
       "      <th>Dystopia Residual</th>\n",
       "    </tr>\n",
       "  </thead>\n",
       "  <tbody>\n",
       "    <tr>\n",
       "      <th>83</th>\n",
       "      <td>China</td>\n",
       "      <td>Eastern Asia</td>\n",
       "      <td>84</td>\n",
       "      <td>5.14</td>\n",
       "      <td>0.02424</td>\n",
       "      <td>0.89012</td>\n",
       "      <td>0.94675</td>\n",
       "      <td>0.81658</td>\n",
       "      <td>0.51697</td>\n",
       "      <td>0.02781</td>\n",
       "      <td>0.08185</td>\n",
       "      <td>1.8604</td>\n",
       "    </tr>\n",
       "  </tbody>\n",
       "</table>\n",
       "</div>"
      ],
      "text/plain": [
       "   Country        Region  Happiness Rank  Happiness Score  Standard Error  \\\n",
       "83   China  Eastern Asia              84             5.14         0.02424   \n",
       "\n",
       "    Economy (GDP per Capita)   Family  Health (Life Expectancy)  Freedom  \\\n",
       "83                   0.89012  0.94675                   0.81658  0.51697   \n",
       "\n",
       "    Trust (Government Corruption)  Generosity  Dystopia Residual  \n",
       "83                        0.02781     0.08185             1.8604  "
      ]
     },
     "execution_count": 14,
     "metadata": {},
     "output_type": "execute_result"
    }
   ],
   "source": [
    "china15"
   ]
  },
  {
   "cell_type": "code",
   "execution_count": 16,
   "id": "2296fdd5-409e-4e5e-acb2-25d7977ad969",
   "metadata": {},
   "outputs": [],
   "source": [
    "china15 = china15.drop(['Standard Error'], axis=1)"
   ]
  },
  {
   "cell_type": "code",
   "execution_count": 47,
   "id": "4cf4fb5b-4dca-495b-ada3-ecdae077444d",
   "metadata": {},
   "outputs": [],
   "source": [
    "china15 = china15.drop(['Region'], axis=1)"
   ]
  },
  {
   "cell_type": "code",
   "execution_count": 18,
   "id": "38a13cf1-0efd-4706-a0b0-625008bd0ac3",
   "metadata": {},
   "outputs": [],
   "source": [
    "china15['Year'] = 2015"
   ]
  },
  {
   "cell_type": "code",
   "execution_count": 20,
   "id": "576cc02a-3c5e-49c1-9433-545a143e1899",
   "metadata": {},
   "outputs": [],
   "source": [
    "china15.insert(0, 'Year', china15.pop('Year'))"
   ]
  },
  {
   "cell_type": "code",
   "execution_count": 21,
   "id": "d30d013f-ce62-498a-be56-89aedf79da27",
   "metadata": {},
   "outputs": [
    {
     "data": {
      "text/html": [
       "<div>\n",
       "<style scoped>\n",
       "    .dataframe tbody tr th:only-of-type {\n",
       "        vertical-align: middle;\n",
       "    }\n",
       "\n",
       "    .dataframe tbody tr th {\n",
       "        vertical-align: top;\n",
       "    }\n",
       "\n",
       "    .dataframe thead th {\n",
       "        text-align: right;\n",
       "    }\n",
       "</style>\n",
       "<table border=\"1\" class=\"dataframe\">\n",
       "  <thead>\n",
       "    <tr style=\"text-align: right;\">\n",
       "      <th></th>\n",
       "      <th>Year</th>\n",
       "      <th>Country</th>\n",
       "      <th>Region</th>\n",
       "      <th>Happiness Rank</th>\n",
       "      <th>Happiness Score</th>\n",
       "      <th>Economy (GDP per Capita)</th>\n",
       "      <th>Family</th>\n",
       "      <th>Health (Life Expectancy)</th>\n",
       "      <th>Freedom</th>\n",
       "      <th>Trust (Government Corruption)</th>\n",
       "      <th>Generosity</th>\n",
       "      <th>Dystopia Residual</th>\n",
       "    </tr>\n",
       "  </thead>\n",
       "  <tbody>\n",
       "    <tr>\n",
       "      <th>83</th>\n",
       "      <td>2015</td>\n",
       "      <td>China</td>\n",
       "      <td>Eastern Asia</td>\n",
       "      <td>84</td>\n",
       "      <td>5.14</td>\n",
       "      <td>0.89012</td>\n",
       "      <td>0.94675</td>\n",
       "      <td>0.81658</td>\n",
       "      <td>0.51697</td>\n",
       "      <td>0.02781</td>\n",
       "      <td>0.08185</td>\n",
       "      <td>1.8604</td>\n",
       "    </tr>\n",
       "  </tbody>\n",
       "</table>\n",
       "</div>"
      ],
      "text/plain": [
       "    Year Country        Region  Happiness Rank  Happiness Score  \\\n",
       "83  2015   China  Eastern Asia              84             5.14   \n",
       "\n",
       "    Economy (GDP per Capita)   Family  Health (Life Expectancy)  Freedom  \\\n",
       "83                   0.89012  0.94675                   0.81658  0.51697   \n",
       "\n",
       "    Trust (Government Corruption)  Generosity  Dystopia Residual  \n",
       "83                        0.02781     0.08185             1.8604  "
      ]
     },
     "execution_count": 21,
     "metadata": {},
     "output_type": "execute_result"
    }
   ],
   "source": [
    "china15"
   ]
  },
  {
   "cell_type": "code",
   "execution_count": 15,
   "id": "31f79b1e-0204-4280-8e05-df1170f23488",
   "metadata": {},
   "outputs": [
    {
     "data": {
      "text/html": [
       "<div>\n",
       "<style scoped>\n",
       "    .dataframe tbody tr th:only-of-type {\n",
       "        vertical-align: middle;\n",
       "    }\n",
       "\n",
       "    .dataframe tbody tr th {\n",
       "        vertical-align: top;\n",
       "    }\n",
       "\n",
       "    .dataframe thead th {\n",
       "        text-align: right;\n",
       "    }\n",
       "</style>\n",
       "<table border=\"1\" class=\"dataframe\">\n",
       "  <thead>\n",
       "    <tr style=\"text-align: right;\">\n",
       "      <th></th>\n",
       "      <th>Country</th>\n",
       "      <th>Region</th>\n",
       "      <th>Happiness Rank</th>\n",
       "      <th>Happiness Score</th>\n",
       "      <th>Lower Confidence Interval</th>\n",
       "      <th>Upper Confidence Interval</th>\n",
       "      <th>Economy (GDP per Capita)</th>\n",
       "      <th>Family</th>\n",
       "      <th>Health (Life Expectancy)</th>\n",
       "      <th>Freedom</th>\n",
       "      <th>Trust (Government Corruption)</th>\n",
       "      <th>Generosity</th>\n",
       "      <th>Dystopia Residual</th>\n",
       "    </tr>\n",
       "  </thead>\n",
       "  <tbody>\n",
       "    <tr>\n",
       "      <th>82</th>\n",
       "      <td>China</td>\n",
       "      <td>Eastern Asia</td>\n",
       "      <td>83</td>\n",
       "      <td>5.245</td>\n",
       "      <td>5.199</td>\n",
       "      <td>5.291</td>\n",
       "      <td>1.0278</td>\n",
       "      <td>0.79381</td>\n",
       "      <td>0.73561</td>\n",
       "      <td>0.44012</td>\n",
       "      <td>0.02745</td>\n",
       "      <td>0.04959</td>\n",
       "      <td>2.17087</td>\n",
       "    </tr>\n",
       "  </tbody>\n",
       "</table>\n",
       "</div>"
      ],
      "text/plain": [
       "   Country        Region  Happiness Rank  Happiness Score  \\\n",
       "82   China  Eastern Asia              83            5.245   \n",
       "\n",
       "    Lower Confidence Interval  Upper Confidence Interval  \\\n",
       "82                      5.199                      5.291   \n",
       "\n",
       "    Economy (GDP per Capita)   Family  Health (Life Expectancy)  Freedom  \\\n",
       "82                    1.0278  0.79381                   0.73561  0.44012   \n",
       "\n",
       "    Trust (Government Corruption)  Generosity  Dystopia Residual  \n",
       "82                        0.02745     0.04959            2.17087  "
      ]
     },
     "execution_count": 15,
     "metadata": {},
     "output_type": "execute_result"
    }
   ],
   "source": [
    "china16"
   ]
  },
  {
   "cell_type": "code",
   "execution_count": 22,
   "id": "c07bcf5b-f33f-4e53-9e90-eedf0d017cef",
   "metadata": {},
   "outputs": [],
   "source": [
    "china16 = china16.drop(['Lower Confidence Interval','Upper Confidence Interval'], axis=1)"
   ]
  },
  {
   "cell_type": "code",
   "execution_count": 48,
   "id": "92b9fef3-4586-47ab-a51b-4e34388a96aa",
   "metadata": {},
   "outputs": [],
   "source": [
    "china16 = china16.drop(['Region'], axis=1)"
   ]
  },
  {
   "cell_type": "code",
   "execution_count": 23,
   "id": "50487147-d8be-4263-b118-7ec328e2a178",
   "metadata": {},
   "outputs": [],
   "source": [
    "china16['Year'] = 2016"
   ]
  },
  {
   "cell_type": "code",
   "execution_count": 24,
   "id": "f374429d-ec50-4700-8733-7e063552bd2e",
   "metadata": {},
   "outputs": [],
   "source": [
    "china16.insert(0, 'Year', china16.pop('Year'))"
   ]
  },
  {
   "cell_type": "code",
   "execution_count": 28,
   "id": "dfc8847f-93ae-4dea-a23d-cecdc2919534",
   "metadata": {},
   "outputs": [
    {
     "data": {
      "text/html": [
       "<div>\n",
       "<style scoped>\n",
       "    .dataframe tbody tr th:only-of-type {\n",
       "        vertical-align: middle;\n",
       "    }\n",
       "\n",
       "    .dataframe tbody tr th {\n",
       "        vertical-align: top;\n",
       "    }\n",
       "\n",
       "    .dataframe thead th {\n",
       "        text-align: right;\n",
       "    }\n",
       "</style>\n",
       "<table border=\"1\" class=\"dataframe\">\n",
       "  <thead>\n",
       "    <tr style=\"text-align: right;\">\n",
       "      <th></th>\n",
       "      <th>Year</th>\n",
       "      <th>Country</th>\n",
       "      <th>Region</th>\n",
       "      <th>Happiness Rank</th>\n",
       "      <th>Happiness Score</th>\n",
       "      <th>Economy (GDP per Capita)</th>\n",
       "      <th>Family</th>\n",
       "      <th>Health (Life Expectancy)</th>\n",
       "      <th>Freedom</th>\n",
       "      <th>Trust (Government Corruption)</th>\n",
       "      <th>Generosity</th>\n",
       "      <th>Dystopia Residual</th>\n",
       "    </tr>\n",
       "  </thead>\n",
       "  <tbody>\n",
       "    <tr>\n",
       "      <th>82</th>\n",
       "      <td>2016</td>\n",
       "      <td>China</td>\n",
       "      <td>Eastern Asia</td>\n",
       "      <td>83</td>\n",
       "      <td>5.245</td>\n",
       "      <td>1.0278</td>\n",
       "      <td>0.79381</td>\n",
       "      <td>0.73561</td>\n",
       "      <td>0.44012</td>\n",
       "      <td>0.02745</td>\n",
       "      <td>0.04959</td>\n",
       "      <td>2.17087</td>\n",
       "    </tr>\n",
       "  </tbody>\n",
       "</table>\n",
       "</div>"
      ],
      "text/plain": [
       "    Year Country        Region  Happiness Rank  Happiness Score  \\\n",
       "82  2016   China  Eastern Asia              83            5.245   \n",
       "\n",
       "    Economy (GDP per Capita)   Family  Health (Life Expectancy)  Freedom  \\\n",
       "82                    1.0278  0.79381                   0.73561  0.44012   \n",
       "\n",
       "    Trust (Government Corruption)  Generosity  Dystopia Residual  \n",
       "82                        0.02745     0.04959            2.17087  "
      ]
     },
     "execution_count": 28,
     "metadata": {},
     "output_type": "execute_result"
    }
   ],
   "source": [
    "china16"
   ]
  },
  {
   "cell_type": "code",
   "execution_count": 27,
   "id": "36659547-5d1b-4f0c-8d6b-dd5a75c4f5d0",
   "metadata": {},
   "outputs": [
    {
     "data": {
      "text/html": [
       "<div>\n",
       "<style scoped>\n",
       "    .dataframe tbody tr th:only-of-type {\n",
       "        vertical-align: middle;\n",
       "    }\n",
       "\n",
       "    .dataframe tbody tr th {\n",
       "        vertical-align: top;\n",
       "    }\n",
       "\n",
       "    .dataframe thead th {\n",
       "        text-align: right;\n",
       "    }\n",
       "</style>\n",
       "<table border=\"1\" class=\"dataframe\">\n",
       "  <thead>\n",
       "    <tr style=\"text-align: right;\">\n",
       "      <th></th>\n",
       "      <th>Country</th>\n",
       "      <th>Happiness.Rank</th>\n",
       "      <th>Happiness.Score</th>\n",
       "      <th>Whisker.high</th>\n",
       "      <th>Whisker.low</th>\n",
       "      <th>Economy..GDP.per.Capita.</th>\n",
       "      <th>Family</th>\n",
       "      <th>Health..Life.Expectancy.</th>\n",
       "      <th>Freedom</th>\n",
       "      <th>Generosity</th>\n",
       "      <th>Trust..Government.Corruption.</th>\n",
       "      <th>Dystopia.Residual</th>\n",
       "    </tr>\n",
       "  </thead>\n",
       "  <tbody>\n",
       "    <tr>\n",
       "      <th>78</th>\n",
       "      <td>China</td>\n",
       "      <td>79</td>\n",
       "      <td>5.273</td>\n",
       "      <td>5.319278</td>\n",
       "      <td>5.226721</td>\n",
       "      <td>1.081166</td>\n",
       "      <td>1.160837</td>\n",
       "      <td>0.741416</td>\n",
       "      <td>0.472788</td>\n",
       "      <td>0.028807</td>\n",
       "      <td>0.022794</td>\n",
       "      <td>1.764939</td>\n",
       "    </tr>\n",
       "  </tbody>\n",
       "</table>\n",
       "</div>"
      ],
      "text/plain": [
       "   Country  Happiness.Rank  Happiness.Score  Whisker.high  Whisker.low  \\\n",
       "78   China              79            5.273      5.319278     5.226721   \n",
       "\n",
       "    Economy..GDP.per.Capita.    Family  Health..Life.Expectancy.   Freedom  \\\n",
       "78                  1.081166  1.160837                  0.741416  0.472788   \n",
       "\n",
       "    Generosity  Trust..Government.Corruption.  Dystopia.Residual  \n",
       "78    0.028807                       0.022794           1.764939  "
      ]
     },
     "execution_count": 27,
     "metadata": {},
     "output_type": "execute_result"
    }
   ],
   "source": [
    "china17"
   ]
  },
  {
   "cell_type": "code",
   "execution_count": 29,
   "id": "dd28502f-b618-4fdb-81a3-d53a424b117a",
   "metadata": {},
   "outputs": [],
   "source": [
    "china17 = china17.drop(['Whisker.high','Whisker.low',], axis=1)"
   ]
  },
  {
   "cell_type": "code",
   "execution_count": 30,
   "id": "c1402c5f-4226-4088-afb9-0eb010543224",
   "metadata": {},
   "outputs": [],
   "source": [
    "china17['Year'] = 2017"
   ]
  },
  {
   "cell_type": "code",
   "execution_count": 31,
   "id": "fb131818-6452-4bc1-9e85-ab8eca5ac949",
   "metadata": {},
   "outputs": [],
   "source": [
    "china17.insert(0, 'Year', china17.pop('Year'))"
   ]
  },
  {
   "cell_type": "code",
   "execution_count": 58,
   "id": "fc10218f-b085-4d77-a2e9-b76cd35adf71",
   "metadata": {},
   "outputs": [],
   "source": [
    "china17 = china17.rename(columns={\"Happiness.Rank\": \"Happiness Rank\", \"Happiness.Score\": \"Happiness Score\",\n",
    "                  \"Economy..GDP.per.Capita.\":\"Economy (GDP per Capita)\"})"
   ]
  },
  {
   "cell_type": "code",
   "execution_count": 60,
   "id": "73417199-8510-4ef7-8b5c-0262be7beda8",
   "metadata": {},
   "outputs": [],
   "source": [
    "china17 = china17.rename(columns={\"Health..Life.Expectancy.\":\"Health (Life Expectancy)\"})"
   ]
  },
  {
   "cell_type": "code",
   "execution_count": 37,
   "id": "343f17ad-9a34-40c6-8419-21ed1099b2ee",
   "metadata": {},
   "outputs": [
    {
     "data": {
      "text/html": [
       "<div>\n",
       "<style scoped>\n",
       "    .dataframe tbody tr th:only-of-type {\n",
       "        vertical-align: middle;\n",
       "    }\n",
       "\n",
       "    .dataframe tbody tr th {\n",
       "        vertical-align: top;\n",
       "    }\n",
       "\n",
       "    .dataframe thead th {\n",
       "        text-align: right;\n",
       "    }\n",
       "</style>\n",
       "<table border=\"1\" class=\"dataframe\">\n",
       "  <thead>\n",
       "    <tr style=\"text-align: right;\">\n",
       "      <th></th>\n",
       "      <th>Year</th>\n",
       "      <th>Country or region</th>\n",
       "      <th>Overall rank</th>\n",
       "      <th>Score</th>\n",
       "      <th>GDP per capita</th>\n",
       "      <th>Social support</th>\n",
       "      <th>Healthy life expectancy</th>\n",
       "      <th>Freedom to make life choices</th>\n",
       "      <th>Generosity</th>\n",
       "      <th>Perceptions of corruption</th>\n",
       "    </tr>\n",
       "  </thead>\n",
       "  <tbody>\n",
       "    <tr>\n",
       "      <th>85</th>\n",
       "      <td>2018</td>\n",
       "      <td>China</td>\n",
       "      <td>86</td>\n",
       "      <td>5.246</td>\n",
       "      <td>0.989</td>\n",
       "      <td>1.142</td>\n",
       "      <td>0.799</td>\n",
       "      <td>0.597</td>\n",
       "      <td>0.029</td>\n",
       "      <td>0.103</td>\n",
       "    </tr>\n",
       "  </tbody>\n",
       "</table>\n",
       "</div>"
      ],
      "text/plain": [
       "    Year Country or region  Overall rank  Score  GDP per capita  \\\n",
       "85  2018             China            86  5.246           0.989   \n",
       "\n",
       "    Social support  Healthy life expectancy  Freedom to make life choices  \\\n",
       "85           1.142                    0.799                         0.597   \n",
       "\n",
       "    Generosity  Perceptions of corruption  \n",
       "85       0.029                      0.103  "
      ]
     },
     "execution_count": 37,
     "metadata": {},
     "output_type": "execute_result"
    }
   ],
   "source": [
    "china18"
   ]
  },
  {
   "cell_type": "code",
   "execution_count": 33,
   "id": "8e07f573-bffa-4a76-afcf-3f5bac9828f6",
   "metadata": {
    "collapsed": true,
    "jupyter": {
     "outputs_hidden": true
    },
    "tags": []
   },
   "outputs": [
    {
     "name": "stderr",
     "output_type": "stream",
     "text": [
      "C:\\Users\\m218101\\AppData\\Local\\Temp\\ipykernel_10148\\3020773925.py:1: SettingWithCopyWarning: \n",
      "A value is trying to be set on a copy of a slice from a DataFrame.\n",
      "Try using .loc[row_indexer,col_indexer] = value instead\n",
      "\n",
      "See the caveats in the documentation: https://pandas.pydata.org/pandas-docs/stable/user_guide/indexing.html#returning-a-view-versus-a-copy\n",
      "  china18['Year'] = 2018\n"
     ]
    }
   ],
   "source": [
    "china18['Year'] = 2018"
   ]
  },
  {
   "cell_type": "code",
   "execution_count": 34,
   "id": "1cfcdb83-838c-41a9-ae0c-1438884a02dd",
   "metadata": {},
   "outputs": [],
   "source": [
    "china18.insert(0, 'Year', china18.pop('Year'))"
   ]
  },
  {
   "cell_type": "code",
   "execution_count": 36,
   "id": "3de2398b-5d42-4899-a847-eb52a131de88",
   "metadata": {},
   "outputs": [],
   "source": [
    "china18.insert(1, 'Country or region', china18.pop('Country or region'))"
   ]
  },
  {
   "cell_type": "code",
   "execution_count": 40,
   "id": "043acfcb-c277-497e-8e90-06184912cb7d",
   "metadata": {},
   "outputs": [
    {
     "data": {
      "text/html": [
       "<div>\n",
       "<style scoped>\n",
       "    .dataframe tbody tr th:only-of-type {\n",
       "        vertical-align: middle;\n",
       "    }\n",
       "\n",
       "    .dataframe tbody tr th {\n",
       "        vertical-align: top;\n",
       "    }\n",
       "\n",
       "    .dataframe thead th {\n",
       "        text-align: right;\n",
       "    }\n",
       "</style>\n",
       "<table border=\"1\" class=\"dataframe\">\n",
       "  <thead>\n",
       "    <tr style=\"text-align: right;\">\n",
       "      <th></th>\n",
       "      <th>Overall rank</th>\n",
       "      <th>Country or region</th>\n",
       "      <th>Score</th>\n",
       "      <th>GDP per capita</th>\n",
       "      <th>Social support</th>\n",
       "      <th>Healthy life expectancy</th>\n",
       "      <th>Freedom to make life choices</th>\n",
       "      <th>Generosity</th>\n",
       "      <th>Perceptions of corruption</th>\n",
       "    </tr>\n",
       "  </thead>\n",
       "  <tbody>\n",
       "    <tr>\n",
       "      <th>92</th>\n",
       "      <td>93</td>\n",
       "      <td>China</td>\n",
       "      <td>5.191</td>\n",
       "      <td>1.029</td>\n",
       "      <td>1.125</td>\n",
       "      <td>0.893</td>\n",
       "      <td>0.521</td>\n",
       "      <td>0.058</td>\n",
       "      <td>0.1</td>\n",
       "    </tr>\n",
       "  </tbody>\n",
       "</table>\n",
       "</div>"
      ],
      "text/plain": [
       "    Overall rank Country or region  Score  GDP per capita  Social support  \\\n",
       "92            93             China  5.191           1.029           1.125   \n",
       "\n",
       "    Healthy life expectancy  Freedom to make life choices  Generosity  \\\n",
       "92                    0.893                         0.521       0.058   \n",
       "\n",
       "    Perceptions of corruption  \n",
       "92                        0.1  "
      ]
     },
     "execution_count": 40,
     "metadata": {},
     "output_type": "execute_result"
    }
   ],
   "source": [
    "china19"
   ]
  },
  {
   "cell_type": "code",
   "execution_count": 41,
   "id": "5fa0cc50-1f17-440d-84c3-7f7dd57e55f9",
   "metadata": {
    "collapsed": true,
    "jupyter": {
     "outputs_hidden": true
    },
    "tags": []
   },
   "outputs": [
    {
     "name": "stderr",
     "output_type": "stream",
     "text": [
      "C:\\Users\\m218101\\AppData\\Local\\Temp\\ipykernel_10148\\3956754781.py:1: SettingWithCopyWarning: \n",
      "A value is trying to be set on a copy of a slice from a DataFrame.\n",
      "Try using .loc[row_indexer,col_indexer] = value instead\n",
      "\n",
      "See the caveats in the documentation: https://pandas.pydata.org/pandas-docs/stable/user_guide/indexing.html#returning-a-view-versus-a-copy\n",
      "  china19['Year'] = 2019\n"
     ]
    }
   ],
   "source": [
    "china19['Year'] = 2019"
   ]
  },
  {
   "cell_type": "code",
   "execution_count": 42,
   "id": "7123e81b-fb75-4348-8544-418f53388769",
   "metadata": {},
   "outputs": [],
   "source": [
    "china19.insert(0, 'Year', china19.pop('Year'))"
   ]
  },
  {
   "cell_type": "code",
   "execution_count": 43,
   "id": "9399c4c2-48a0-4540-8914-6c5c6b869ea5",
   "metadata": {},
   "outputs": [],
   "source": [
    "china18.insert(1, 'Country or region', china18.pop('Country or region'))"
   ]
  },
  {
   "cell_type": "code",
   "execution_count": 63,
   "id": "55987dd4-9c7e-4a6b-b3c3-990e4081cf3a",
   "metadata": {},
   "outputs": [],
   "source": [
    "china18 = china18.rename(columns={\"Country or region\":\"Country\",\"Overall rank\":\"Happiness Rank\",\"Score\":\"Happiness Score\",\n",
    "                                 \"GDP per capita\":\"Economy (GDP per Capita)\",\"Healthy life expectancy\":\"Health (Life Expectancy)\",\n",
    "                                 \"Freedom to make life choices\":\"Freedom\"})"
   ]
  },
  {
   "cell_type": "code",
   "execution_count": 55,
   "id": "22413e96-cfe8-46a3-a7fb-49af2a0f7783",
   "metadata": {},
   "outputs": [
    {
     "data": {
      "text/html": [
       "<div>\n",
       "<style scoped>\n",
       "    .dataframe tbody tr th:only-of-type {\n",
       "        vertical-align: middle;\n",
       "    }\n",
       "\n",
       "    .dataframe tbody tr th {\n",
       "        vertical-align: top;\n",
       "    }\n",
       "\n",
       "    .dataframe thead th {\n",
       "        text-align: right;\n",
       "    }\n",
       "</style>\n",
       "<table border=\"1\" class=\"dataframe\">\n",
       "  <thead>\n",
       "    <tr style=\"text-align: right;\">\n",
       "      <th></th>\n",
       "      <th>Year</th>\n",
       "      <th>Country</th>\n",
       "      <th>Happiness Rank</th>\n",
       "      <th>Happiness Score</th>\n",
       "      <th>Economy (GDP per Capita)</th>\n",
       "      <th>Family</th>\n",
       "      <th>Health (Life Expectancy)</th>\n",
       "      <th>Freedom</th>\n",
       "      <th>Trust (Government Corruption)</th>\n",
       "      <th>Generosity</th>\n",
       "      <th>Dystopia Residual</th>\n",
       "    </tr>\n",
       "  </thead>\n",
       "  <tbody>\n",
       "    <tr>\n",
       "      <th>83</th>\n",
       "      <td>2015</td>\n",
       "      <td>China</td>\n",
       "      <td>84</td>\n",
       "      <td>5.14</td>\n",
       "      <td>0.89012</td>\n",
       "      <td>0.94675</td>\n",
       "      <td>0.81658</td>\n",
       "      <td>0.51697</td>\n",
       "      <td>0.02781</td>\n",
       "      <td>0.08185</td>\n",
       "      <td>1.8604</td>\n",
       "    </tr>\n",
       "  </tbody>\n",
       "</table>\n",
       "</div>"
      ],
      "text/plain": [
       "    Year Country  Happiness Rank  Happiness Score  Economy (GDP per Capita)  \\\n",
       "83  2015   China              84             5.14                   0.89012   \n",
       "\n",
       "     Family  Health (Life Expectancy)  Freedom  Trust (Government Corruption)  \\\n",
       "83  0.94675                   0.81658  0.51697                        0.02781   \n",
       "\n",
       "    Generosity  Dystopia Residual  \n",
       "83     0.08185             1.8604  "
      ]
     },
     "execution_count": 55,
     "metadata": {},
     "output_type": "execute_result"
    }
   ],
   "source": [
    "china15"
   ]
  },
  {
   "cell_type": "code",
   "execution_count": 56,
   "id": "f9baeb49-351c-4ad4-afb0-d66dd887ae37",
   "metadata": {},
   "outputs": [
    {
     "data": {
      "text/html": [
       "<div>\n",
       "<style scoped>\n",
       "    .dataframe tbody tr th:only-of-type {\n",
       "        vertical-align: middle;\n",
       "    }\n",
       "\n",
       "    .dataframe tbody tr th {\n",
       "        vertical-align: top;\n",
       "    }\n",
       "\n",
       "    .dataframe thead th {\n",
       "        text-align: right;\n",
       "    }\n",
       "</style>\n",
       "<table border=\"1\" class=\"dataframe\">\n",
       "  <thead>\n",
       "    <tr style=\"text-align: right;\">\n",
       "      <th></th>\n",
       "      <th>Year</th>\n",
       "      <th>Country</th>\n",
       "      <th>Happiness Rank</th>\n",
       "      <th>Happiness Score</th>\n",
       "      <th>Economy (GDP per Capita)</th>\n",
       "      <th>Family</th>\n",
       "      <th>Health (Life Expectancy)</th>\n",
       "      <th>Freedom</th>\n",
       "      <th>Trust (Government Corruption)</th>\n",
       "      <th>Generosity</th>\n",
       "      <th>Dystopia Residual</th>\n",
       "    </tr>\n",
       "  </thead>\n",
       "  <tbody>\n",
       "    <tr>\n",
       "      <th>82</th>\n",
       "      <td>2016</td>\n",
       "      <td>China</td>\n",
       "      <td>83</td>\n",
       "      <td>5.245</td>\n",
       "      <td>1.0278</td>\n",
       "      <td>0.79381</td>\n",
       "      <td>0.73561</td>\n",
       "      <td>0.44012</td>\n",
       "      <td>0.02745</td>\n",
       "      <td>0.04959</td>\n",
       "      <td>2.17087</td>\n",
       "    </tr>\n",
       "  </tbody>\n",
       "</table>\n",
       "</div>"
      ],
      "text/plain": [
       "    Year Country  Happiness Rank  Happiness Score  Economy (GDP per Capita)  \\\n",
       "82  2016   China              83            5.245                    1.0278   \n",
       "\n",
       "     Family  Health (Life Expectancy)  Freedom  Trust (Government Corruption)  \\\n",
       "82  0.79381                   0.73561  0.44012                        0.02745   \n",
       "\n",
       "    Generosity  Dystopia Residual  \n",
       "82     0.04959            2.17087  "
      ]
     },
     "execution_count": 56,
     "metadata": {},
     "output_type": "execute_result"
    }
   ],
   "source": [
    "china16"
   ]
  },
  {
   "cell_type": "code",
   "execution_count": 61,
   "id": "5633f255-9e8d-4261-8544-77a49cfd5a0a",
   "metadata": {},
   "outputs": [
    {
     "data": {
      "text/html": [
       "<div>\n",
       "<style scoped>\n",
       "    .dataframe tbody tr th:only-of-type {\n",
       "        vertical-align: middle;\n",
       "    }\n",
       "\n",
       "    .dataframe tbody tr th {\n",
       "        vertical-align: top;\n",
       "    }\n",
       "\n",
       "    .dataframe thead th {\n",
       "        text-align: right;\n",
       "    }\n",
       "</style>\n",
       "<table border=\"1\" class=\"dataframe\">\n",
       "  <thead>\n",
       "    <tr style=\"text-align: right;\">\n",
       "      <th></th>\n",
       "      <th>Year</th>\n",
       "      <th>Country</th>\n",
       "      <th>Happiness Rank</th>\n",
       "      <th>Happiness Score</th>\n",
       "      <th>Economy (GDP per Capita)</th>\n",
       "      <th>Family</th>\n",
       "      <th>Health (Life Expectancy)</th>\n",
       "      <th>Freedom</th>\n",
       "      <th>Generosity</th>\n",
       "      <th>Trust..Government.Corruption.</th>\n",
       "      <th>Dystopia.Residual</th>\n",
       "    </tr>\n",
       "  </thead>\n",
       "  <tbody>\n",
       "    <tr>\n",
       "      <th>78</th>\n",
       "      <td>2017</td>\n",
       "      <td>China</td>\n",
       "      <td>79</td>\n",
       "      <td>5.273</td>\n",
       "      <td>1.081166</td>\n",
       "      <td>1.160837</td>\n",
       "      <td>0.741416</td>\n",
       "      <td>0.472788</td>\n",
       "      <td>0.028807</td>\n",
       "      <td>0.022794</td>\n",
       "      <td>1.764939</td>\n",
       "    </tr>\n",
       "  </tbody>\n",
       "</table>\n",
       "</div>"
      ],
      "text/plain": [
       "    Year Country  Happiness Rank  Happiness Score  Economy (GDP per Capita)  \\\n",
       "78  2017   China              79            5.273                  1.081166   \n",
       "\n",
       "      Family  Health (Life Expectancy)   Freedom  Generosity  \\\n",
       "78  1.160837                  0.741416  0.472788    0.028807   \n",
       "\n",
       "    Trust..Government.Corruption.  Dystopia.Residual  \n",
       "78                       0.022794           1.764939  "
      ]
     },
     "execution_count": 61,
     "metadata": {},
     "output_type": "execute_result"
    }
   ],
   "source": [
    "china17"
   ]
  },
  {
   "cell_type": "code",
   "execution_count": 64,
   "id": "711285f8-a0d8-4e57-8b0b-d6f93aa2d4ca",
   "metadata": {},
   "outputs": [
    {
     "data": {
      "text/html": [
       "<div>\n",
       "<style scoped>\n",
       "    .dataframe tbody tr th:only-of-type {\n",
       "        vertical-align: middle;\n",
       "    }\n",
       "\n",
       "    .dataframe tbody tr th {\n",
       "        vertical-align: top;\n",
       "    }\n",
       "\n",
       "    .dataframe thead th {\n",
       "        text-align: right;\n",
       "    }\n",
       "</style>\n",
       "<table border=\"1\" class=\"dataframe\">\n",
       "  <thead>\n",
       "    <tr style=\"text-align: right;\">\n",
       "      <th></th>\n",
       "      <th>Year</th>\n",
       "      <th>Country</th>\n",
       "      <th>Happiness Rank</th>\n",
       "      <th>Happiness Score</th>\n",
       "      <th>Economy (GDP per Capita)</th>\n",
       "      <th>Social support</th>\n",
       "      <th>Health (Life Expectancy)</th>\n",
       "      <th>Freedom</th>\n",
       "      <th>Generosity</th>\n",
       "      <th>Perceptions of corruption</th>\n",
       "    </tr>\n",
       "  </thead>\n",
       "  <tbody>\n",
       "    <tr>\n",
       "      <th>85</th>\n",
       "      <td>2018</td>\n",
       "      <td>China</td>\n",
       "      <td>86</td>\n",
       "      <td>5.246</td>\n",
       "      <td>0.989</td>\n",
       "      <td>1.142</td>\n",
       "      <td>0.799</td>\n",
       "      <td>0.597</td>\n",
       "      <td>0.029</td>\n",
       "      <td>0.103</td>\n",
       "    </tr>\n",
       "  </tbody>\n",
       "</table>\n",
       "</div>"
      ],
      "text/plain": [
       "    Year Country  Happiness Rank  Happiness Score  Economy (GDP per Capita)  \\\n",
       "85  2018   China              86            5.246                     0.989   \n",
       "\n",
       "    Social support  Health (Life Expectancy)  Freedom  Generosity  \\\n",
       "85           1.142                     0.799    0.597       0.029   \n",
       "\n",
       "    Perceptions of corruption  \n",
       "85                      0.103  "
      ]
     },
     "execution_count": 64,
     "metadata": {},
     "output_type": "execute_result"
    }
   ],
   "source": [
    "china18"
   ]
  },
  {
   "cell_type": "code",
   "execution_count": 65,
   "id": "d8416e1e-489b-4724-8f9d-2c5b7c1257c4",
   "metadata": {},
   "outputs": [
    {
     "data": {
      "text/html": [
       "<div>\n",
       "<style scoped>\n",
       "    .dataframe tbody tr th:only-of-type {\n",
       "        vertical-align: middle;\n",
       "    }\n",
       "\n",
       "    .dataframe tbody tr th {\n",
       "        vertical-align: top;\n",
       "    }\n",
       "\n",
       "    .dataframe thead th {\n",
       "        text-align: right;\n",
       "    }\n",
       "</style>\n",
       "<table border=\"1\" class=\"dataframe\">\n",
       "  <thead>\n",
       "    <tr style=\"text-align: right;\">\n",
       "      <th></th>\n",
       "      <th>Year</th>\n",
       "      <th>Overall rank</th>\n",
       "      <th>Country or region</th>\n",
       "      <th>Score</th>\n",
       "      <th>GDP per capita</th>\n",
       "      <th>Social support</th>\n",
       "      <th>Healthy life expectancy</th>\n",
       "      <th>Freedom to make life choices</th>\n",
       "      <th>Generosity</th>\n",
       "      <th>Perceptions of corruption</th>\n",
       "    </tr>\n",
       "  </thead>\n",
       "  <tbody>\n",
       "    <tr>\n",
       "      <th>92</th>\n",
       "      <td>2019</td>\n",
       "      <td>93</td>\n",
       "      <td>China</td>\n",
       "      <td>5.191</td>\n",
       "      <td>1.029</td>\n",
       "      <td>1.125</td>\n",
       "      <td>0.893</td>\n",
       "      <td>0.521</td>\n",
       "      <td>0.058</td>\n",
       "      <td>0.1</td>\n",
       "    </tr>\n",
       "  </tbody>\n",
       "</table>\n",
       "</div>"
      ],
      "text/plain": [
       "    Year  Overall rank Country or region  Score  GDP per capita  \\\n",
       "92  2019            93             China  5.191           1.029   \n",
       "\n",
       "    Social support  Healthy life expectancy  Freedom to make life choices  \\\n",
       "92           1.125                    0.893                         0.521   \n",
       "\n",
       "    Generosity  Perceptions of corruption  \n",
       "92       0.058                        0.1  "
      ]
     },
     "execution_count": 65,
     "metadata": {},
     "output_type": "execute_result"
    }
   ],
   "source": [
    "china19"
   ]
  },
  {
   "cell_type": "code",
   "execution_count": 67,
   "id": "e81bab3e-f74f-4122-869d-70af5b72f644",
   "metadata": {},
   "outputs": [],
   "source": [
    "china19 = china19.rename(columns={\"Country or region\":\"Country\",\"Overall rank\":\"Happiness Rank\",\"Score\":\"Happiness Score\",\n",
    "                                 \"GDP per capita\":\"Economy (GDP per Capita)\",\"Healthy life expectancy\":\"Health (Life Expectancy)\",\n",
    "                                 \"Freedom to make life choices\":\"Freedom\"})"
   ]
  },
  {
   "cell_type": "code",
   "execution_count": 68,
   "id": "4d14b3f8-ef2c-44d6-b1dc-3b5613d8ae6b",
   "metadata": {},
   "outputs": [],
   "source": [
    "china19.insert(1, 'Country', china19.pop('Country'))"
   ]
  },
  {
   "cell_type": "code",
   "execution_count": 69,
   "id": "765a7b3d-e6d0-4ea0-bdcf-eb6822cadecd",
   "metadata": {},
   "outputs": [
    {
     "data": {
      "text/html": [
       "<div>\n",
       "<style scoped>\n",
       "    .dataframe tbody tr th:only-of-type {\n",
       "        vertical-align: middle;\n",
       "    }\n",
       "\n",
       "    .dataframe tbody tr th {\n",
       "        vertical-align: top;\n",
       "    }\n",
       "\n",
       "    .dataframe thead th {\n",
       "        text-align: right;\n",
       "    }\n",
       "</style>\n",
       "<table border=\"1\" class=\"dataframe\">\n",
       "  <thead>\n",
       "    <tr style=\"text-align: right;\">\n",
       "      <th></th>\n",
       "      <th>Year</th>\n",
       "      <th>Country</th>\n",
       "      <th>Happiness Rank</th>\n",
       "      <th>Happiness Score</th>\n",
       "      <th>Economy (GDP per Capita)</th>\n",
       "      <th>Family</th>\n",
       "      <th>Health (Life Expectancy)</th>\n",
       "      <th>Freedom</th>\n",
       "      <th>Trust (Government Corruption)</th>\n",
       "      <th>Generosity</th>\n",
       "      <th>Dystopia Residual</th>\n",
       "    </tr>\n",
       "  </thead>\n",
       "  <tbody>\n",
       "    <tr>\n",
       "      <th>83</th>\n",
       "      <td>2015</td>\n",
       "      <td>China</td>\n",
       "      <td>84</td>\n",
       "      <td>5.14</td>\n",
       "      <td>0.89012</td>\n",
       "      <td>0.94675</td>\n",
       "      <td>0.81658</td>\n",
       "      <td>0.51697</td>\n",
       "      <td>0.02781</td>\n",
       "      <td>0.08185</td>\n",
       "      <td>1.8604</td>\n",
       "    </tr>\n",
       "  </tbody>\n",
       "</table>\n",
       "</div>"
      ],
      "text/plain": [
       "    Year Country  Happiness Rank  Happiness Score  Economy (GDP per Capita)  \\\n",
       "83  2015   China              84             5.14                   0.89012   \n",
       "\n",
       "     Family  Health (Life Expectancy)  Freedom  Trust (Government Corruption)  \\\n",
       "83  0.94675                   0.81658  0.51697                        0.02781   \n",
       "\n",
       "    Generosity  Dystopia Residual  \n",
       "83     0.08185             1.8604  "
      ]
     },
     "execution_count": 69,
     "metadata": {},
     "output_type": "execute_result"
    }
   ],
   "source": [
    "china15"
   ]
  },
  {
   "cell_type": "code",
   "execution_count": 70,
   "id": "fd4129b2-e1c6-43e7-aa1c-e0360f3aad34",
   "metadata": {},
   "outputs": [
    {
     "data": {
      "text/html": [
       "<div>\n",
       "<style scoped>\n",
       "    .dataframe tbody tr th:only-of-type {\n",
       "        vertical-align: middle;\n",
       "    }\n",
       "\n",
       "    .dataframe tbody tr th {\n",
       "        vertical-align: top;\n",
       "    }\n",
       "\n",
       "    .dataframe thead th {\n",
       "        text-align: right;\n",
       "    }\n",
       "</style>\n",
       "<table border=\"1\" class=\"dataframe\">\n",
       "  <thead>\n",
       "    <tr style=\"text-align: right;\">\n",
       "      <th></th>\n",
       "      <th>Year</th>\n",
       "      <th>Country</th>\n",
       "      <th>Happiness Rank</th>\n",
       "      <th>Happiness Score</th>\n",
       "      <th>Economy (GDP per Capita)</th>\n",
       "      <th>Family</th>\n",
       "      <th>Health (Life Expectancy)</th>\n",
       "      <th>Freedom</th>\n",
       "      <th>Trust (Government Corruption)</th>\n",
       "      <th>Generosity</th>\n",
       "      <th>Dystopia Residual</th>\n",
       "    </tr>\n",
       "  </thead>\n",
       "  <tbody>\n",
       "    <tr>\n",
       "      <th>82</th>\n",
       "      <td>2016</td>\n",
       "      <td>China</td>\n",
       "      <td>83</td>\n",
       "      <td>5.245</td>\n",
       "      <td>1.0278</td>\n",
       "      <td>0.79381</td>\n",
       "      <td>0.73561</td>\n",
       "      <td>0.44012</td>\n",
       "      <td>0.02745</td>\n",
       "      <td>0.04959</td>\n",
       "      <td>2.17087</td>\n",
       "    </tr>\n",
       "  </tbody>\n",
       "</table>\n",
       "</div>"
      ],
      "text/plain": [
       "    Year Country  Happiness Rank  Happiness Score  Economy (GDP per Capita)  \\\n",
       "82  2016   China              83            5.245                    1.0278   \n",
       "\n",
       "     Family  Health (Life Expectancy)  Freedom  Trust (Government Corruption)  \\\n",
       "82  0.79381                   0.73561  0.44012                        0.02745   \n",
       "\n",
       "    Generosity  Dystopia Residual  \n",
       "82     0.04959            2.17087  "
      ]
     },
     "execution_count": 70,
     "metadata": {},
     "output_type": "execute_result"
    }
   ],
   "source": [
    "china16"
   ]
  },
  {
   "cell_type": "code",
   "execution_count": 71,
   "id": "7f6fefd8-6bd9-467f-ae65-7e21ce7cb528",
   "metadata": {},
   "outputs": [
    {
     "data": {
      "text/html": [
       "<div>\n",
       "<style scoped>\n",
       "    .dataframe tbody tr th:only-of-type {\n",
       "        vertical-align: middle;\n",
       "    }\n",
       "\n",
       "    .dataframe tbody tr th {\n",
       "        vertical-align: top;\n",
       "    }\n",
       "\n",
       "    .dataframe thead th {\n",
       "        text-align: right;\n",
       "    }\n",
       "</style>\n",
       "<table border=\"1\" class=\"dataframe\">\n",
       "  <thead>\n",
       "    <tr style=\"text-align: right;\">\n",
       "      <th></th>\n",
       "      <th>Year</th>\n",
       "      <th>Country</th>\n",
       "      <th>Happiness Rank</th>\n",
       "      <th>Happiness Score</th>\n",
       "      <th>Economy (GDP per Capita)</th>\n",
       "      <th>Family</th>\n",
       "      <th>Health (Life Expectancy)</th>\n",
       "      <th>Freedom</th>\n",
       "      <th>Generosity</th>\n",
       "      <th>Trust..Government.Corruption.</th>\n",
       "      <th>Dystopia.Residual</th>\n",
       "    </tr>\n",
       "  </thead>\n",
       "  <tbody>\n",
       "    <tr>\n",
       "      <th>78</th>\n",
       "      <td>2017</td>\n",
       "      <td>China</td>\n",
       "      <td>79</td>\n",
       "      <td>5.273</td>\n",
       "      <td>1.081166</td>\n",
       "      <td>1.160837</td>\n",
       "      <td>0.741416</td>\n",
       "      <td>0.472788</td>\n",
       "      <td>0.028807</td>\n",
       "      <td>0.022794</td>\n",
       "      <td>1.764939</td>\n",
       "    </tr>\n",
       "  </tbody>\n",
       "</table>\n",
       "</div>"
      ],
      "text/plain": [
       "    Year Country  Happiness Rank  Happiness Score  Economy (GDP per Capita)  \\\n",
       "78  2017   China              79            5.273                  1.081166   \n",
       "\n",
       "      Family  Health (Life Expectancy)   Freedom  Generosity  \\\n",
       "78  1.160837                  0.741416  0.472788    0.028807   \n",
       "\n",
       "    Trust..Government.Corruption.  Dystopia.Residual  \n",
       "78                       0.022794           1.764939  "
      ]
     },
     "execution_count": 71,
     "metadata": {},
     "output_type": "execute_result"
    }
   ],
   "source": [
    "china17"
   ]
  },
  {
   "cell_type": "code",
   "execution_count": 72,
   "id": "325cb05f-0688-4d08-8952-7775709d967f",
   "metadata": {},
   "outputs": [
    {
     "data": {
      "text/html": [
       "<div>\n",
       "<style scoped>\n",
       "    .dataframe tbody tr th:only-of-type {\n",
       "        vertical-align: middle;\n",
       "    }\n",
       "\n",
       "    .dataframe tbody tr th {\n",
       "        vertical-align: top;\n",
       "    }\n",
       "\n",
       "    .dataframe thead th {\n",
       "        text-align: right;\n",
       "    }\n",
       "</style>\n",
       "<table border=\"1\" class=\"dataframe\">\n",
       "  <thead>\n",
       "    <tr style=\"text-align: right;\">\n",
       "      <th></th>\n",
       "      <th>Year</th>\n",
       "      <th>Country</th>\n",
       "      <th>Happiness Rank</th>\n",
       "      <th>Happiness Score</th>\n",
       "      <th>Economy (GDP per Capita)</th>\n",
       "      <th>Social support</th>\n",
       "      <th>Health (Life Expectancy)</th>\n",
       "      <th>Freedom</th>\n",
       "      <th>Generosity</th>\n",
       "      <th>Perceptions of corruption</th>\n",
       "    </tr>\n",
       "  </thead>\n",
       "  <tbody>\n",
       "    <tr>\n",
       "      <th>85</th>\n",
       "      <td>2018</td>\n",
       "      <td>China</td>\n",
       "      <td>86</td>\n",
       "      <td>5.246</td>\n",
       "      <td>0.989</td>\n",
       "      <td>1.142</td>\n",
       "      <td>0.799</td>\n",
       "      <td>0.597</td>\n",
       "      <td>0.029</td>\n",
       "      <td>0.103</td>\n",
       "    </tr>\n",
       "  </tbody>\n",
       "</table>\n",
       "</div>"
      ],
      "text/plain": [
       "    Year Country  Happiness Rank  Happiness Score  Economy (GDP per Capita)  \\\n",
       "85  2018   China              86            5.246                     0.989   \n",
       "\n",
       "    Social support  Health (Life Expectancy)  Freedom  Generosity  \\\n",
       "85           1.142                     0.799    0.597       0.029   \n",
       "\n",
       "    Perceptions of corruption  \n",
       "85                      0.103  "
      ]
     },
     "execution_count": 72,
     "metadata": {},
     "output_type": "execute_result"
    }
   ],
   "source": [
    "china18"
   ]
  },
  {
   "cell_type": "code",
   "execution_count": 73,
   "id": "d818a278-8c26-4963-8a74-d41942a8593b",
   "metadata": {},
   "outputs": [
    {
     "data": {
      "text/html": [
       "<div>\n",
       "<style scoped>\n",
       "    .dataframe tbody tr th:only-of-type {\n",
       "        vertical-align: middle;\n",
       "    }\n",
       "\n",
       "    .dataframe tbody tr th {\n",
       "        vertical-align: top;\n",
       "    }\n",
       "\n",
       "    .dataframe thead th {\n",
       "        text-align: right;\n",
       "    }\n",
       "</style>\n",
       "<table border=\"1\" class=\"dataframe\">\n",
       "  <thead>\n",
       "    <tr style=\"text-align: right;\">\n",
       "      <th></th>\n",
       "      <th>Year</th>\n",
       "      <th>Country</th>\n",
       "      <th>Happiness Rank</th>\n",
       "      <th>Happiness Score</th>\n",
       "      <th>Economy (GDP per Capita)</th>\n",
       "      <th>Social support</th>\n",
       "      <th>Health (Life Expectancy)</th>\n",
       "      <th>Freedom</th>\n",
       "      <th>Generosity</th>\n",
       "      <th>Perceptions of corruption</th>\n",
       "    </tr>\n",
       "  </thead>\n",
       "  <tbody>\n",
       "    <tr>\n",
       "      <th>92</th>\n",
       "      <td>2019</td>\n",
       "      <td>China</td>\n",
       "      <td>93</td>\n",
       "      <td>5.191</td>\n",
       "      <td>1.029</td>\n",
       "      <td>1.125</td>\n",
       "      <td>0.893</td>\n",
       "      <td>0.521</td>\n",
       "      <td>0.058</td>\n",
       "      <td>0.1</td>\n",
       "    </tr>\n",
       "  </tbody>\n",
       "</table>\n",
       "</div>"
      ],
      "text/plain": [
       "    Year Country  Happiness Rank  Happiness Score  Economy (GDP per Capita)  \\\n",
       "92  2019   China              93            5.191                     1.029   \n",
       "\n",
       "    Social support  Health (Life Expectancy)  Freedom  Generosity  \\\n",
       "92           1.125                     0.893    0.521       0.058   \n",
       "\n",
       "    Perceptions of corruption  \n",
       "92                        0.1  "
      ]
     },
     "execution_count": 73,
     "metadata": {},
     "output_type": "execute_result"
    }
   ],
   "source": [
    "china19"
   ]
  },
  {
   "cell_type": "code",
   "execution_count": 138,
   "id": "73d09bbd-43c3-41a8-ab84-c05b26e3ffad",
   "metadata": {},
   "outputs": [],
   "source": [
    "df = pd.concat([china15,china16,china17,china18,china19])"
   ]
  },
  {
   "cell_type": "code",
   "execution_count": 139,
   "id": "ac81f344-4e28-4c08-8b3c-50fabd773780",
   "metadata": {},
   "outputs": [
    {
     "data": {
      "text/html": [
       "<div>\n",
       "<style scoped>\n",
       "    .dataframe tbody tr th:only-of-type {\n",
       "        vertical-align: middle;\n",
       "    }\n",
       "\n",
       "    .dataframe tbody tr th {\n",
       "        vertical-align: top;\n",
       "    }\n",
       "\n",
       "    .dataframe thead th {\n",
       "        text-align: right;\n",
       "    }\n",
       "</style>\n",
       "<table border=\"1\" class=\"dataframe\">\n",
       "  <thead>\n",
       "    <tr style=\"text-align: right;\">\n",
       "      <th></th>\n",
       "      <th>Year</th>\n",
       "      <th>Country</th>\n",
       "      <th>Happiness Rank</th>\n",
       "      <th>Happiness Score</th>\n",
       "      <th>Economy (GDP per Capita)</th>\n",
       "      <th>Family</th>\n",
       "      <th>Health (Life Expectancy)</th>\n",
       "      <th>Freedom</th>\n",
       "      <th>Trust (Government Corruption)</th>\n",
       "      <th>Generosity</th>\n",
       "      <th>Dystopia Residual</th>\n",
       "      <th>Trust..Government.Corruption.</th>\n",
       "      <th>Dystopia.Residual</th>\n",
       "      <th>Social support</th>\n",
       "      <th>Perceptions of corruption</th>\n",
       "    </tr>\n",
       "  </thead>\n",
       "  <tbody>\n",
       "    <tr>\n",
       "      <th>83</th>\n",
       "      <td>2015</td>\n",
       "      <td>China</td>\n",
       "      <td>84</td>\n",
       "      <td>5.140</td>\n",
       "      <td>0.890120</td>\n",
       "      <td>0.946750</td>\n",
       "      <td>0.816580</td>\n",
       "      <td>0.516970</td>\n",
       "      <td>0.02781</td>\n",
       "      <td>0.081850</td>\n",
       "      <td>1.86040</td>\n",
       "      <td>NaN</td>\n",
       "      <td>NaN</td>\n",
       "      <td>NaN</td>\n",
       "      <td>NaN</td>\n",
       "    </tr>\n",
       "    <tr>\n",
       "      <th>82</th>\n",
       "      <td>2016</td>\n",
       "      <td>China</td>\n",
       "      <td>83</td>\n",
       "      <td>5.245</td>\n",
       "      <td>1.027800</td>\n",
       "      <td>0.793810</td>\n",
       "      <td>0.735610</td>\n",
       "      <td>0.440120</td>\n",
       "      <td>0.02745</td>\n",
       "      <td>0.049590</td>\n",
       "      <td>2.17087</td>\n",
       "      <td>NaN</td>\n",
       "      <td>NaN</td>\n",
       "      <td>NaN</td>\n",
       "      <td>NaN</td>\n",
       "    </tr>\n",
       "    <tr>\n",
       "      <th>78</th>\n",
       "      <td>2017</td>\n",
       "      <td>China</td>\n",
       "      <td>79</td>\n",
       "      <td>5.273</td>\n",
       "      <td>1.081166</td>\n",
       "      <td>1.160837</td>\n",
       "      <td>0.741416</td>\n",
       "      <td>0.472788</td>\n",
       "      <td>NaN</td>\n",
       "      <td>0.028807</td>\n",
       "      <td>NaN</td>\n",
       "      <td>0.022794</td>\n",
       "      <td>1.764939</td>\n",
       "      <td>NaN</td>\n",
       "      <td>NaN</td>\n",
       "    </tr>\n",
       "    <tr>\n",
       "      <th>85</th>\n",
       "      <td>2018</td>\n",
       "      <td>China</td>\n",
       "      <td>86</td>\n",
       "      <td>5.246</td>\n",
       "      <td>0.989000</td>\n",
       "      <td>NaN</td>\n",
       "      <td>0.799000</td>\n",
       "      <td>0.597000</td>\n",
       "      <td>NaN</td>\n",
       "      <td>0.029000</td>\n",
       "      <td>NaN</td>\n",
       "      <td>NaN</td>\n",
       "      <td>NaN</td>\n",
       "      <td>1.142</td>\n",
       "      <td>0.103</td>\n",
       "    </tr>\n",
       "    <tr>\n",
       "      <th>92</th>\n",
       "      <td>2019</td>\n",
       "      <td>China</td>\n",
       "      <td>93</td>\n",
       "      <td>5.191</td>\n",
       "      <td>1.029000</td>\n",
       "      <td>NaN</td>\n",
       "      <td>0.893000</td>\n",
       "      <td>0.521000</td>\n",
       "      <td>NaN</td>\n",
       "      <td>0.058000</td>\n",
       "      <td>NaN</td>\n",
       "      <td>NaN</td>\n",
       "      <td>NaN</td>\n",
       "      <td>1.125</td>\n",
       "      <td>0.100</td>\n",
       "    </tr>\n",
       "  </tbody>\n",
       "</table>\n",
       "</div>"
      ],
      "text/plain": [
       "    Year Country  Happiness Rank  Happiness Score  Economy (GDP per Capita)  \\\n",
       "83  2015   China              84            5.140                  0.890120   \n",
       "82  2016   China              83            5.245                  1.027800   \n",
       "78  2017   China              79            5.273                  1.081166   \n",
       "85  2018   China              86            5.246                  0.989000   \n",
       "92  2019   China              93            5.191                  1.029000   \n",
       "\n",
       "      Family  Health (Life Expectancy)   Freedom  \\\n",
       "83  0.946750                  0.816580  0.516970   \n",
       "82  0.793810                  0.735610  0.440120   \n",
       "78  1.160837                  0.741416  0.472788   \n",
       "85       NaN                  0.799000  0.597000   \n",
       "92       NaN                  0.893000  0.521000   \n",
       "\n",
       "    Trust (Government Corruption)  Generosity  Dystopia Residual  \\\n",
       "83                        0.02781    0.081850            1.86040   \n",
       "82                        0.02745    0.049590            2.17087   \n",
       "78                            NaN    0.028807                NaN   \n",
       "85                            NaN    0.029000                NaN   \n",
       "92                            NaN    0.058000                NaN   \n",
       "\n",
       "    Trust..Government.Corruption.  Dystopia.Residual  Social support  \\\n",
       "83                            NaN                NaN             NaN   \n",
       "82                            NaN                NaN             NaN   \n",
       "78                       0.022794           1.764939             NaN   \n",
       "85                            NaN                NaN           1.142   \n",
       "92                            NaN                NaN           1.125   \n",
       "\n",
       "    Perceptions of corruption  \n",
       "83                        NaN  \n",
       "82                        NaN  \n",
       "78                        NaN  \n",
       "85                      0.103  \n",
       "92                      0.100  "
      ]
     },
     "execution_count": 139,
     "metadata": {},
     "output_type": "execute_result"
    }
   ],
   "source": [
    "df"
   ]
  },
  {
   "cell_type": "code",
   "execution_count": 140,
   "id": "6a659b61-e517-4104-87c7-bbbf608cab3f",
   "metadata": {},
   "outputs": [
    {
     "data": {
      "text/plain": [
       "<seaborn.axisgrid.FacetGrid at 0x270359f4100>"
      ]
     },
     "execution_count": 140,
     "metadata": {},
     "output_type": "execute_result"
    },
    {
     "data": {
      "image/png": "[encoded data removed]",
      "text/plain": [
       "<Figure size 360x360 with 1 Axes>"
      ]
     },
     "metadata": {
      "needs_background": "light"
     },
     "output_type": "display_data"
    },
    {
     "data": {
      "image/png": "[encoded data removed]",
      "text/plain": [
       "<Figure size 360x360 with 1 Axes>"
      ]
     },
     "metadata": {
      "needs_background": "light"
     },
     "output_type": "display_data"
    }
   ],
   "source": [
    "sns.catplot(kind=\"bar\",\n",
    "            data=df,\n",
    "            x=\"Year\",\n",
    "            y=\"Happiness Rank\",\n",
    "        #    height=5,\n",
    "        #    aspect=2,\n",
    "            color=\"royalblue\")\n",
    "plt.savefig('C:/Users/m218101/Desktop/WBS_Coding_school/Course/Final_project/intern_tourism_demographics/china.png',dpi=200\n",
    "           ,bbox_inches='tight') \n",
    "sns.catplot(kind=\"bar\",\n",
    "            data=df,\n",
    "            x=\"Year\",\n",
    "            y=\"Economy (GDP per Capita)\",\n",
    "        #    height=5,\n",
    "        #    aspect=2,\n",
    "            color=\"royalblue\")"
   ]
  },
  {
   "cell_type": "code",
   "execution_count": 109,
   "id": "f28570f8-427d-46df-9a0f-a15a0cd7aa04",
   "metadata": {},
   "outputs": [],
   "source": [
    "rf15 = happy15.loc[happy15[\"Country\"] == \"Russia\", :]\n",
    "rf16 = happy16.loc[happy16[\"Country\"] == \"Russia\", :]\n",
    "rf17 = happy17.loc[happy17[\"Country\"] == \"Russia\", :]\n",
    "rf18 = happy18.loc[happy18[\"Country or region\"] == \"Russia\", :]\n",
    "rf19 = happy19.loc[happy19[\"Country or region\"] == \"Russia\", :]"
   ]
  },
  {
   "cell_type": "code",
   "execution_count": 111,
   "id": "7afe4503-c871-4cef-b6fd-cc49338bb560",
   "metadata": {},
   "outputs": [],
   "source": [
    "rf15 = rf15.drop(['Standard Error','Region'], axis=1)"
   ]
  },
  {
   "cell_type": "code",
   "execution_count": 112,
   "id": "93f6adf6-91c5-4c61-8f14-6fa3f76a3a15",
   "metadata": {},
   "outputs": [],
   "source": [
    "rf15['Year'] = 2015"
   ]
  },
  {
   "cell_type": "code",
   "execution_count": 113,
   "id": "65461528-888a-4268-9cf8-c944cd86d15a",
   "metadata": {},
   "outputs": [],
   "source": [
    "rf15.insert(0, 'Year', rf15.pop('Year'))"
   ]
  },
  {
   "cell_type": "code",
   "execution_count": 114,
   "id": "0452a9b8-1c28-43bf-bb8e-82e1c8aa8162",
   "metadata": {},
   "outputs": [],
   "source": [
    "rf16 = rf16.drop(['Lower Confidence Interval','Upper Confidence Interval','Region'], axis=1)"
   ]
  },
  {
   "cell_type": "code",
   "execution_count": 115,
   "id": "2c151d25-080a-4fe7-a21a-4151a3f430d8",
   "metadata": {},
   "outputs": [],
   "source": [
    "rf16['Year'] = 2016"
   ]
  },
  {
   "cell_type": "code",
   "execution_count": 116,
   "id": "88190ee4-b4e1-4d03-bd79-984187f5d91a",
   "metadata": {},
   "outputs": [],
   "source": [
    "rf16.insert(0, 'Year', rf16.pop('Year'))"
   ]
  },
  {
   "cell_type": "code",
   "execution_count": 117,
   "id": "8c969db4-6b1d-4c8f-a88b-3a6ad82d5f8d",
   "metadata": {},
   "outputs": [],
   "source": [
    "rf17 = rf17.drop(['Whisker.high','Whisker.low',], axis=1)"
   ]
  },
  {
   "cell_type": "code",
   "execution_count": 118,
   "id": "c7fa1a88-5211-4149-bcb6-55d0437db6af",
   "metadata": {},
   "outputs": [],
   "source": [
    "rf17['Year'] = 2017"
   ]
  },
  {
   "cell_type": "code",
   "execution_count": 119,
   "id": "7777bf61-24da-4418-bd3c-a6e887426bb1",
   "metadata": {},
   "outputs": [],
   "source": [
    "rf17.insert(0, 'Year', rf17.pop('Year'))"
   ]
  },
  {
   "cell_type": "code",
   "execution_count": 120,
   "id": "26707fc6-69d7-463b-a83a-6567e652e600",
   "metadata": {},
   "outputs": [],
   "source": [
    "rf17 = rf17.rename(columns={\"Happiness.Rank\": \"Happiness Rank\", \"Happiness.Score\": \"Happiness Score\",\n",
    "                  \"Economy..GDP.per.Capita.\":\"Economy (GDP per Capita)\",\"Health..Life.Expectancy.\":\"Health (Life Expectancy)\"})"
   ]
  },
  {
   "cell_type": "code",
   "execution_count": 122,
   "id": "20bfb390-7965-4f65-8708-aaefd74f93d4",
   "metadata": {},
   "outputs": [
    {
     "name": "stderr",
     "output_type": "stream",
     "text": [
      "C:\\Users\\m218101\\AppData\\Local\\Temp\\ipykernel_10148\\709419097.py:1: SettingWithCopyWarning: \n",
      "A value is trying to be set on a copy of a slice from a DataFrame.\n",
      "Try using .loc[row_indexer,col_indexer] = value instead\n",
      "\n",
      "See the caveats in the documentation: https://pandas.pydata.org/pandas-docs/stable/user_guide/indexing.html#returning-a-view-versus-a-copy\n",
      "  rf18['Year'] = 2018\n"
     ]
    }
   ],
   "source": [
    "rf18['Year'] = 2018"
   ]
  },
  {
   "cell_type": "code",
   "execution_count": 123,
   "id": "a48a0147-67d0-4300-960e-8a19681e27f0",
   "metadata": {},
   "outputs": [],
   "source": [
    "rf18.insert(0, 'Year', rf18.pop('Year'))"
   ]
  },
  {
   "cell_type": "code",
   "execution_count": 124,
   "id": "4b8fce5e-8804-4c55-a9c0-411c88e46b91",
   "metadata": {},
   "outputs": [],
   "source": [
    "rf18.insert(1, 'Country or region', rf18.pop('Country or region'))"
   ]
  },
  {
   "cell_type": "code",
   "execution_count": 125,
   "id": "fc1446a3-89cb-4ffc-99a8-1980b3c180a0",
   "metadata": {},
   "outputs": [],
   "source": [
    "rf18 = rf18.rename(columns={\"Country or region\":\"Country\",\"Overall rank\":\"Happiness Rank\",\"Score\":\"Happiness Score\",\n",
    "                                 \"GDP per capita\":\"Economy (GDP per Capita)\",\"Healthy life expectancy\":\"Health (Life Expectancy)\",\n",
    "                                 \"Freedom to make life choices\":\"Freedom\"})"
   ]
  },
  {
   "cell_type": "code",
   "execution_count": 126,
   "id": "93fc7f80-75a2-49fa-82ab-cf714d1855c4",
   "metadata": {},
   "outputs": [
    {
     "name": "stderr",
     "output_type": "stream",
     "text": [
      "C:\\Users\\m218101\\AppData\\Local\\Temp\\ipykernel_10148\\1796322058.py:1: SettingWithCopyWarning: \n",
      "A value is trying to be set on a copy of a slice from a DataFrame.\n",
      "Try using .loc[row_indexer,col_indexer] = value instead\n",
      "\n",
      "See the caveats in the documentation: https://pandas.pydata.org/pandas-docs/stable/user_guide/indexing.html#returning-a-view-versus-a-copy\n",
      "  rf19['Year'] = 2019\n"
     ]
    }
   ],
   "source": [
    "rf19['Year'] = 2019"
   ]
  },
  {
   "cell_type": "code",
   "execution_count": 127,
   "id": "32874a77-2d6b-4ade-94bd-a72d050190d3",
   "metadata": {},
   "outputs": [],
   "source": [
    "rf19.insert(0, 'Year', rf19.pop('Year'))"
   ]
  },
  {
   "cell_type": "code",
   "execution_count": 128,
   "id": "16c51222-5a22-40c2-a9eb-9144a9b45509",
   "metadata": {},
   "outputs": [],
   "source": [
    "rf19 = rf19.rename(columns={\"Country or region\":\"Country\",\"Overall rank\":\"Happiness Rank\",\"Score\":\"Happiness Score\",\n",
    "                                 \"GDP per capita\":\"Economy (GDP per Capita)\",\"Healthy life expectancy\":\"Health (Life Expectancy)\",\n",
    "                                 \"Freedom to make life choices\":\"Freedom\"})"
   ]
  },
  {
   "cell_type": "code",
   "execution_count": 129,
   "id": "5af133a0-aaab-4267-a783-3e3c7324ec56",
   "metadata": {},
   "outputs": [],
   "source": [
    "rf19.insert(1, 'Country', rf19.pop('Country'))"
   ]
  },
  {
   "cell_type": "code",
   "execution_count": 132,
   "id": "2efb4b29-6f63-44db-9da2-7ee15ecc8bcc",
   "metadata": {},
   "outputs": [],
   "source": [
    "df_rf = pd.concat([rf15,rf16,rf17,rf18,rf19])"
   ]
  },
  {
   "cell_type": "code",
   "execution_count": 133,
   "id": "6f2774b4-9eb7-45b1-8167-78112da6e9ee",
   "metadata": {},
   "outputs": [
    {
     "data": {
      "text/html": [
       "<div>\n",
       "<style scoped>\n",
       "    .dataframe tbody tr th:only-of-type {\n",
       "        vertical-align: middle;\n",
       "    }\n",
       "\n",
       "    .dataframe tbody tr th {\n",
       "        vertical-align: top;\n",
       "    }\n",
       "\n",
       "    .dataframe thead th {\n",
       "        text-align: right;\n",
       "    }\n",
       "</style>\n",
       "<table border=\"1\" class=\"dataframe\">\n",
       "  <thead>\n",
       "    <tr style=\"text-align: right;\">\n",
       "      <th></th>\n",
       "      <th>Year</th>\n",
       "      <th>Country</th>\n",
       "      <th>Happiness Rank</th>\n",
       "      <th>Happiness Score</th>\n",
       "      <th>Economy (GDP per Capita)</th>\n",
       "      <th>Family</th>\n",
       "      <th>Health (Life Expectancy)</th>\n",
       "      <th>Freedom</th>\n",
       "      <th>Trust (Government Corruption)</th>\n",
       "      <th>Generosity</th>\n",
       "      <th>Dystopia Residual</th>\n",
       "      <th>Trust..Government.Corruption.</th>\n",
       "      <th>Dystopia.Residual</th>\n",
       "      <th>Social support</th>\n",
       "      <th>Perceptions of corruption</th>\n",
       "    </tr>\n",
       "  </thead>\n",
       "  <tbody>\n",
       "    <tr>\n",
       "      <th>63</th>\n",
       "      <td>2015</td>\n",
       "      <td>Russia</td>\n",
       "      <td>64</td>\n",
       "      <td>5.716</td>\n",
       "      <td>1.137640</td>\n",
       "      <td>1.236170</td>\n",
       "      <td>0.669260</td>\n",
       "      <td>0.366790</td>\n",
       "      <td>0.03005</td>\n",
       "      <td>0.001990</td>\n",
       "      <td>2.27394</td>\n",
       "      <td>NaN</td>\n",
       "      <td>NaN</td>\n",
       "      <td>NaN</td>\n",
       "      <td>NaN</td>\n",
       "    </tr>\n",
       "    <tr>\n",
       "      <th>55</th>\n",
       "      <td>2016</td>\n",
       "      <td>Russia</td>\n",
       "      <td>56</td>\n",
       "      <td>5.856</td>\n",
       "      <td>1.232280</td>\n",
       "      <td>1.052610</td>\n",
       "      <td>0.589910</td>\n",
       "      <td>0.326820</td>\n",
       "      <td>0.03586</td>\n",
       "      <td>0.027360</td>\n",
       "      <td>2.59115</td>\n",
       "      <td>NaN</td>\n",
       "      <td>NaN</td>\n",
       "      <td>NaN</td>\n",
       "      <td>NaN</td>\n",
       "    </tr>\n",
       "    <tr>\n",
       "      <th>48</th>\n",
       "      <td>2017</td>\n",
       "      <td>Russia</td>\n",
       "      <td>49</td>\n",
       "      <td>5.963</td>\n",
       "      <td>1.281778</td>\n",
       "      <td>1.469282</td>\n",
       "      <td>0.547349</td>\n",
       "      <td>0.373783</td>\n",
       "      <td>NaN</td>\n",
       "      <td>0.052264</td>\n",
       "      <td>NaN</td>\n",
       "      <td>0.032963</td>\n",
       "      <td>2.205607</td>\n",
       "      <td>NaN</td>\n",
       "      <td>NaN</td>\n",
       "    </tr>\n",
       "    <tr>\n",
       "      <th>58</th>\n",
       "      <td>2018</td>\n",
       "      <td>Russia</td>\n",
       "      <td>59</td>\n",
       "      <td>5.810</td>\n",
       "      <td>1.151000</td>\n",
       "      <td>NaN</td>\n",
       "      <td>0.599000</td>\n",
       "      <td>0.399000</td>\n",
       "      <td>NaN</td>\n",
       "      <td>0.065000</td>\n",
       "      <td>NaN</td>\n",
       "      <td>NaN</td>\n",
       "      <td>NaN</td>\n",
       "      <td>1.479</td>\n",
       "      <td>0.025</td>\n",
       "    </tr>\n",
       "    <tr>\n",
       "      <th>67</th>\n",
       "      <td>2019</td>\n",
       "      <td>Russia</td>\n",
       "      <td>68</td>\n",
       "      <td>5.648</td>\n",
       "      <td>1.183000</td>\n",
       "      <td>NaN</td>\n",
       "      <td>0.726000</td>\n",
       "      <td>0.334000</td>\n",
       "      <td>NaN</td>\n",
       "      <td>0.082000</td>\n",
       "      <td>NaN</td>\n",
       "      <td>NaN</td>\n",
       "      <td>NaN</td>\n",
       "      <td>1.452</td>\n",
       "      <td>0.031</td>\n",
       "    </tr>\n",
       "  </tbody>\n",
       "</table>\n",
       "</div>"
      ],
      "text/plain": [
       "    Year Country  Happiness Rank  Happiness Score  Economy (GDP per Capita)  \\\n",
       "63  2015  Russia              64            5.716                  1.137640   \n",
       "55  2016  Russia              56            5.856                  1.232280   \n",
       "48  2017  Russia              49            5.963                  1.281778   \n",
       "58  2018  Russia              59            5.810                  1.151000   \n",
       "67  2019  Russia              68            5.648                  1.183000   \n",
       "\n",
       "      Family  Health (Life Expectancy)   Freedom  \\\n",
       "63  1.236170                  0.669260  0.366790   \n",
       "55  1.052610                  0.589910  0.326820   \n",
       "48  1.469282                  0.547349  0.373783   \n",
       "58       NaN                  0.599000  0.399000   \n",
       "67       NaN                  0.726000  0.334000   \n",
       "\n",
       "    Trust (Government Corruption)  Generosity  Dystopia Residual  \\\n",
       "63                        0.03005    0.001990            2.27394   \n",
       "55                        0.03586    0.027360            2.59115   \n",
       "48                            NaN    0.052264                NaN   \n",
       "58                            NaN    0.065000                NaN   \n",
       "67                            NaN    0.082000                NaN   \n",
       "\n",
       "    Trust..Government.Corruption.  Dystopia.Residual  Social support  \\\n",
       "63                            NaN                NaN             NaN   \n",
       "55                            NaN                NaN             NaN   \n",
       "48                       0.032963           2.205607             NaN   \n",
       "58                            NaN                NaN           1.479   \n",
       "67                            NaN                NaN           1.452   \n",
       "\n",
       "    Perceptions of corruption  \n",
       "63                        NaN  \n",
       "55                        NaN  \n",
       "48                        NaN  \n",
       "58                      0.025  \n",
       "67                      0.031  "
      ]
     },
     "execution_count": 133,
     "metadata": {},
     "output_type": "execute_result"
    }
   ],
   "source": [
    "df_rf"
   ]
  },
  {
   "cell_type": "code",
   "execution_count": 136,
   "id": "9411690b-4d94-4ad2-9daa-a24631d714cb",
   "metadata": {},
   "outputs": [
    {
     "data": {
      "text/plain": [
       "<seaborn.axisgrid.FacetGrid at 0x2703587d730>"
      ]
     },
     "execution_count": 136,
     "metadata": {},
     "output_type": "execute_result"
    },
    {
     "data": {
      "image/png": "[encoded data removed]",
      "text/plain": [
       "<Figure size 360x360 with 1 Axes>"
      ]
     },
     "metadata": {
      "needs_background": "light"
     },
     "output_type": "display_data"
    },
    {
     "data": {
      "image/png": "[encoded data removed]",
      "text/plain": [
       "<Figure size 360x360 with 1 Axes>"
      ]
     },
     "metadata": {
      "needs_background": "light"
     },
     "output_type": "display_data"
    }
   ],
   "source": [
    "sns.catplot(kind=\"bar\",\n",
    "            data=df_rf,\n",
    "            x=\"Year\",\n",
    "            y=\"Happiness Rank\",\n",
    "        #    height=5,\n",
    "        #    aspect=2,\n",
    "            color=\"royalblue\")\n",
    "plt.savefig('C:/Users/m218101/Desktop/WBS_Coding_school/Course/Final_project/intern_tourism_demographics/russia.png',dpi=200\n",
    "           ,bbox_inches='tight') \n",
    "sns.catplot(kind=\"bar\",\n",
    "            data=df_rf,\n",
    "            x=\"Year\",\n",
    "            y=\"Economy (GDP per Capita)\",\n",
    "        #    height=5,\n",
    "        #    aspect=2,\n",
    "            color=\"royalblue\")"
   ]
  }
 ],
 "metadata": {
  "kernelspec": {
   "display_name": "Python 3 (ipykernel)",
   "language": "python",
   "name": "python3"
  },
  "language_info": {
   "codemirror_mode": {
    "name": "ipython",
    "version": 3
   },
   "file_extension": ".py",
   "mimetype": "text/x-python",
   "name": "python",
   "nbconvert_exporter": "python",
   "pygments_lexer": "ipython3",
   "version": "3.9.12"
  }
 },
 "nbformat": 4,
 "nbformat_minor": 5
}
